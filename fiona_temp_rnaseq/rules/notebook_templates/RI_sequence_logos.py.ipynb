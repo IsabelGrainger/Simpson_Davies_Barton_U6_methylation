{
 "cells": [
  {
   "cell_type": "code",
   "execution_count": null,
   "metadata": {
    "tags": [
     "snakemake-job-properties"
    ]
   },
   "outputs": [],
   "source": [
    "\n",
    "######## snakemake preamble start (automatically inserted, do not edit) ########\n",
    "import sys; sys.path.extend(['/cluster/ggs_lab/mtparker/.conda/envs/snakemake6/lib/python3.10/site-packages', '/cluster/ggs_lab/mtparker/papers/fiona/fiona_temp_rnaseq/rules/notebook_templates']); import pickle; snakemake = pickle.loads(b'\\x80\\x04\\x95\\xba\\x08\\x00\\x00\\x00\\x00\\x00\\x00\\x8c\\x10snakemake.script\\x94\\x8c\\tSnakemake\\x94\\x93\\x94)\\x81\\x94}\\x94(\\x8c\\x05input\\x94\\x8c\\x0csnakemake.io\\x94\\x8c\\nInputFiles\\x94\\x93\\x94)\\x81\\x94(\\x8c\\x1bsplicing/denovo/psi_fit.csv\\x94\\x8c:../annotations/Arabidopsis_thaliana.TAIR10.dna.toplevel.fa\\x94e}\\x94(\\x8c\\x06_names\\x94}\\x94(\\x8c\\x07psi_fit\\x94K\\x00N\\x86\\x94\\x8c\\x0fgenome_fasta_fn\\x94K\\x01N\\x86\\x94u\\x8c\\x12_allowed_overrides\\x94]\\x94(\\x8c\\x05index\\x94\\x8c\\x04sort\\x94eh\\x15\\x8c\\tfunctools\\x94\\x8c\\x07partial\\x94\\x93\\x94h\\x06\\x8c\\x19Namedlist._used_attribute\\x94\\x93\\x94\\x85\\x94R\\x94(h\\x1b)}\\x94\\x8c\\x05_name\\x94h\\x15sNt\\x94bh\\x16h\\x19h\\x1b\\x85\\x94R\\x94(h\\x1b)}\\x94h\\x1fh\\x16sNt\\x94bh\\x0fh\\nh\\x11h\\x0bub\\x8c\\x06output\\x94h\\x06\\x8c\\x0bOutputFiles\\x94\\x93\\x94)\\x81\\x94\\x8c-figures/splicing/denovo/A5_logos_and_heatmaps\\x94a}\\x94(h\\r}\\x94\\x8c\\x0csplice_plots\\x94K\\x00N\\x86\\x94sh\\x13]\\x94(h\\x15h\\x16eh\\x15h\\x19h\\x1b\\x85\\x94R\\x94(h\\x1b)}\\x94h\\x1fh\\x15sNt\\x94bh\\x16h\\x19h\\x1b\\x85\\x94R\\x94(h\\x1b)}\\x94h\\x1fh\\x16sNt\\x94bh,h)ub\\x8c\\x06params\\x94h\\x06\\x8c\\x06Params\\x94\\x93\\x94)\\x81\\x94}\\x94(h\\r}\\x94h\\x13]\\x94(h\\x15h\\x16eh\\x15h\\x19h\\x1b\\x85\\x94R\\x94(h\\x1b)}\\x94h\\x1fh\\x15sNt\\x94bh\\x16h\\x19h\\x1b\\x85\\x94R\\x94(h\\x1b)}\\x94h\\x1fh\\x16sNt\\x94bub\\x8c\\twildcards\\x94h\\x06\\x8c\\tWildcards\\x94\\x93\\x94)\\x81\\x94(\\x8c\\x06denovo\\x94\\x8c\\x02A5\\x94e}\\x94(h\\r}\\x94(\\x8c\\x08ref_type\\x94K\\x00N\\x86\\x94\\x8c\\nevent_type\\x94K\\x01N\\x86\\x94uh\\x13]\\x94(h\\x15h\\x16eh\\x15h\\x19h\\x1b\\x85\\x94R\\x94(h\\x1b)}\\x94h\\x1fh\\x15sNt\\x94bh\\x16h\\x19h\\x1b\\x85\\x94R\\x94(h\\x1b)}\\x94h\\x1fh\\x16sNt\\x94b\\x8c\\x08ref_type\\x94hJ\\x8c\\nevent_type\\x94hKub\\x8c\\x07threads\\x94K\\x01\\x8c\\tresources\\x94h\\x06\\x8c\\tResources\\x94\\x93\\x94)\\x81\\x94(K\\x01K\\x01\\x8c\\x04/tmp\\x94e}\\x94(h\\r}\\x94(\\x8c\\x06_cores\\x94K\\x00N\\x86\\x94\\x8c\\x06_nodes\\x94K\\x01N\\x86\\x94\\x8c\\x06tmpdir\\x94K\\x02N\\x86\\x94uh\\x13]\\x94(h\\x15h\\x16eh\\x15h\\x19h\\x1b\\x85\\x94R\\x94(h\\x1b)}\\x94h\\x1fh\\x15sNt\\x94bh\\x16h\\x19h\\x1b\\x85\\x94R\\x94(h\\x1b)}\\x94h\\x1fh\\x16sNt\\x94bheK\\x01hgK\\x01hihbub\\x8c\\x03log\\x94h\\x06\\x8c\\x03Log\\x94\\x93\\x94)\\x81\\x94\\x8c4notebook_processed/sequence_logos_denovo_A5.py.ipynb\\x94a}\\x94(h\\r}\\x94\\x8c\\x08notebook\\x94K\\x00N\\x86\\x94sh\\x13]\\x94(h\\x15h\\x16eh\\x15h\\x19h\\x1b\\x85\\x94R\\x94(h\\x1b)}\\x94h\\x1fh\\x15sNt\\x94bh\\x16h\\x19h\\x1b\\x85\\x94R\\x94(h\\x1b)}\\x94h\\x1fh\\x16sNt\\x94bh{hxub\\x8c\\x06config\\x94}\\x94(\\x8c\\x0fgenome_fasta_fn\\x94\\x8c:../annotations/Arabidopsis_thaliana.TAIR10.dna.toplevel.fa\\x94\\x8c\\x0cannot_gtf_fn\\x94\\x8cA../annotations/Araport11_GFF3_genes_transposons.201606.no_chr.gtf\\x94\\x8c\\x16transcriptome_fasta_fn\\x94]\\x94(\\x8c0../annotations/Araport11_genes.201606.cdna.fasta\\x94\\x8c5../annotations/Araport11_non_coding.201606.cdna.fasta\\x94e\\x8c\\x11proteome_fasta_fn\\x94\\x8c4../annotations/Araport11_genes.201606.pep.repr.fasta\\x94\\x8c\\x14fastq_screen_genomes\\x94}\\x94(\\x8c\\tathaliana\\x94\\x8c:../annotations/Arabidopsis_thaliana.TAIR10.dna.toplevel.fa\\x94\\x8c\\x08hsapiens\\x94\\x8c=../annotations/Homo_sapiens.GRCh38.dna_sm.primary_assembly.fa\\x94\\x8c\\x07at_rrna\\x94\\x8c\\x1c../annotations/arath_rrna.fa\\x94\\x8c\\x05ecoli\\x94\\x8c\"../annotations/ecoli_k12_mg1655.fa\\x94u\\x8c\\x11suppa_comparisons\\x94]\\x94(\\x8c\\x14col0_04c_vs_col0_20c\\x94\\x8c\\x14col0_12c_vs_col0_20c\\x94\\x8c\\x14col0_28c_vs_col0_20c\\x94\\x8c\\x14fio1_04c_vs_fio1_20c\\x94\\x8c\\x14fio1_12c_vs_fio1_20c\\x94\\x8c\\x14fio1_28c_vs_fio1_20c\\x94\\x8c\\x14fio1_04c_vs_col0_04c\\x94\\x8c\\x14fio1_12c_vs_col0_12c\\x94\\x8c\\x14fio1_20c_vs_col0_20c\\x94\\x8c\\x14fio1_28c_vs_col0_28c\\x94eu\\x8c\\x04rule\\x94\\x8c\\x1bgenerate_logos_and_heatmaps\\x94\\x8c\\x0fbench_iteration\\x94N\\x8c\\tscriptdir\\x94\\x8cQ/cluster/ggs_lab/mtparker/papers/fiona/fiona_temp_rnaseq/rules/notebook_templates\\x94ub.'); from snakemake.logging import logger; logger.printshellcmds = False; import os; os.chdir(r'/cluster/ggs_lab/mtparker/papers/fiona/fiona_temp_rnaseq/pipeline');\n",
    "######## snakemake preamble end #########\n"
   ]
  },
  {
   "cell_type": "code",
   "execution_count": null,
   "metadata": {},
   "outputs": [],
   "source": [
    "import os\n",
    "import warnings\n",
    "import numpy as np\n",
    "import pandas as pd\n",
    "import matplotlib.pyplot as plt\n",
    "from matplotlib.colors import ListedColormap, Normalize\n",
    "import seaborn as sns\n",
    "from IPython.display import Markdown, display_markdown\n",
    "\n",
    "from seqlogo_utils import (\n",
    "    get_donor_acceptor_seqs_from_df,\n",
    "    plot_donor_acceptor_logos,\n",
    "    plot_u5_u6_heatmap,\n",
    "    calculate_switch_nt,\n",
    "    perc_seq_pos,\n",
    "    get_pairwise_seqs\n",
    ")\n",
    "\n",
    "%matplotlib inline\n",
    "sns.set(font='Arial')\n",
    "plt.rcParams['svg.fonttype'] = 'none'\n",
    "style = sns.axes_style('white')\n",
    "style.update(sns.axes_style('ticks'))\n",
    "style['xtick.major.size'] = 1\n",
    "style['ytick.major.size'] = 1\n",
    "sns.set(font_scale=1.2, style=style)\n",
    "pal = sns.color_palette(['#0072b2', '#d55e00', '#009e73', '#f0e442', '#cc79a7', '#56b4e9', '#e69f00'])\n",
    "cmap = ListedColormap(pal.as_hex())\n",
    "sns.set_palette(pal)"
   ]
  },
  {
   "cell_type": "code",
   "execution_count": null,
   "metadata": {},
   "outputs": [],
   "source": [
    "OUTPUT_PATH = snakemake.output.splice_plots\n",
    "if not os.path.exists(OUTPUT_PATH):\n",
    "    os.makedirs(OUTPUT_PATH)"
   ]
  },
  {
   "cell_type": "code",
   "execution_count": null,
   "metadata": {},
   "outputs": [],
   "source": [
    "def display_formatted_markdown(md, **kwargs):\n",
    "    md_f = md.format(**kwargs)\n",
    "    display_markdown(Markdown(md_f))\n",
    "\n",
    "MD_TEXT = open('../rules/notebook_templates/md_text/RI.md').readlines()\n",
    "\n",
    "ref_type = {'ref': 'reference', 'denovo': '*de novo*'}\n",
    "\n",
    "display_formatted_markdown(\n",
    "    '# Retained intron analysis using {ref_type} transcriptome assembly',\n",
    "    ref_type=ref_type[snakemake.wildcards.ref_type]\n",
    ")"
   ]
  },
  {
   "cell_type": "code",
   "execution_count": null,
   "metadata": {},
   "outputs": [],
   "source": [
    "def convert_coords(coords):\n",
    "    if not coords:\n",
    "        return None\n",
    "    else:\n",
    "        with warnings.catch_warnings():\n",
    "            warnings.simplefilter(\"ignore\")\n",
    "            return np.fromstring(coords.strip('[] '), sep=' ', dtype=int)\n",
    "\n",
    "psi_fit = pd.read_csv(\n",
    "    snakemake.input.psi_fit,\n",
    "    converters={'chrom': str,\n",
    "                'alt1': convert_coords,\n",
    "                'alt2': convert_coords}\n",
    ")\n",
    "psi_fit_sig = psi_fit.query(\n",
    "    'event_class == \"RI\" & (geno_fdr < 0.05 | gxt_fdr < 0.05)'\n",
    ")"
   ]
  },
  {
   "cell_type": "code",
   "execution_count": null,
   "metadata": {},
   "outputs": [],
   "source": [
    "ri_pos, ri_seqs = get_donor_acceptor_seqs_from_df(\n",
    "    psi_fit_sig.query('dpsi > 0'), snakemake.input.genome_fasta_fn, winsize=6\n",
    ")\n",
    "\n",
    "ri_donors = list(ri_seqs['alt2']['donor'].values())\n",
    "\n",
    "si_pos, si_seqs = get_donor_acceptor_seqs_from_df(\n",
    "    psi_fit_sig.query('dpsi < 0'), snakemake.input.genome_fasta_fn, winsize=6\n",
    ")\n",
    "\n",
    "si_donors = list(si_seqs['alt2']['donor'].values())\n",
    "\n",
    "display_formatted_markdown(\n",
    "    MD_TEXT[0],\n",
    "    num_ri=len(psi_fit_sig),\n",
    "    perc_inc=np.mean(psi_fit_sig.dpsi > 0) * 100,\n",
    "    perc_dec=np.mean(psi_fit_sig.dpsi < 0) * 100,\n",
    "    ri_perc_a4=perc_seq_pos(ri_donors, 4, 'A')[1]\n",
    ")\n",
    "display_formatted_markdown(\n",
    "    MD_TEXT[1],\n",
    "    si_perc_a4=perc_seq_pos(si_donors, 4, 'A')[1],\n",
    "    si_perc_u4=perc_seq_pos(si_donors, 4, 'U')[1]\n",
    ")\n",
    "\n",
    "fig = plt.figure(figsize=(15, 7))\n",
    "ri_logo_ax = plt.subplot2grid((3, 2), (0, 0))\n",
    "ri_hmap_ax = plt.subplot2grid((3, 2), (1, 0), rowspan=2)\n",
    "si_logo_ax = plt.subplot2grid((3, 2), (0, 1))\n",
    "si_hmap_ax = plt.subplot2grid((3, 2), (1, 1), rowspan=2)\n",
    "\n",
    "plot_donor_acceptor_logos(\n",
    "    ri_donors,\n",
    "    seq_type='donor',\n",
    "    title='Introns with increased retention in fio1-3',\n",
    "    ax=ri_logo_ax,\n",
    ")\n",
    "plot_u5_u6_heatmap(ri_donors, vmin=0, vmax=293, ax=ri_hmap_ax)\n",
    "plot_donor_acceptor_logos(\n",
    "    si_donors,\n",
    "    seq_type='donor',\n",
    "    title='Introns with reduced retention in fio1-3',\n",
    "    ax=si_logo_ax\n",
    ")\n",
    "plot_u5_u6_heatmap(si_donors, vmin=0, vmax=293, ax=si_hmap_ax)\n",
    "plt.savefig(os.path.join(OUTPUT_PATH, 'ri_fio1_logo.svg'))\n",
    "plt.show()"
   ]
  },
  {
   "cell_type": "code",
   "execution_count": null,
   "metadata": {},
   "outputs": [],
   "source": []
  }
 ],
 "metadata": {
  "kernelspec": {
   "display_name": "Python 3",
   "language": "python",
   "name": "python3"
  },
  "language_info": {
   "codemirror_mode": {
    "name": "ipython",
    "version": 3
   },
   "file_extension": ".py",
   "mimetype": "text/x-python",
   "name": "python",
   "nbconvert_exporter": "python",
   "pygments_lexer": "ipython3",
   "version": "3.6.7"
  }
 },
 "nbformat": 4,
 "nbformat_minor": 5
}
