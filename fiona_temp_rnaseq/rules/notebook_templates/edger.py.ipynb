{
 "cells": [
  {
   "cell_type": "code",
   "execution_count": null,
   "metadata": {
    "tags": [
     "snakemake-job-properties"
    ]
   },
   "outputs": [],
   "source": [
    "\n",
    "######## snakemake preamble start (automatically inserted, do not edit) ########\n",
    "import sys; sys.path.extend(['/cluster/ggs_lab/mtparker/.conda/envs/snakemake6/lib/python3.10/site-packages', '/cluster/ggs_lab/mtparker/papers/fiona/fiona_temp_rnaseq/rules/notebook_templates']); import pickle; snakemake = pickle.loads(b'\\x80\\x04\\x95\\xa9\\x10\\x00\\x00\\x00\\x00\\x00\\x00\\x8c\\x10snakemake.script\\x94\\x8c\\tSnakemake\\x94\\x93\\x94)\\x81\\x94}\\x94(\\x8c\\x05input\\x94\\x8c\\x0csnakemake.io\\x94\\x8c\\nInputFiles\\x94\\x93\\x94)\\x81\\x94(\\x8c&quantification/ref/fio1_20c_3/quant.sf\\x94\\x8c&quantification/ref/col0_28c_3/quant.sf\\x94\\x8c&quantification/ref/col0_20c_2/quant.sf\\x94\\x8c&quantification/ref/col0_12c_1/quant.sf\\x94\\x8c&quantification/ref/fio1_20c_1/quant.sf\\x94\\x8c&quantification/ref/fio1_28c_4/quant.sf\\x94\\x8c&quantification/ref/fio1_28c_2/quant.sf\\x94\\x8c&quantification/ref/col0_28c_4/quant.sf\\x94\\x8c&quantification/ref/fio1_04c_4/quant.sf\\x94\\x8c&quantification/ref/col0_28c_5/quant.sf\\x94\\x8c&quantification/ref/fio1_28c_1/quant.sf\\x94\\x8c&quantification/ref/fio1_12c_6/quant.sf\\x94\\x8c&quantification/ref/fio1_12c_1/quant.sf\\x94\\x8c&quantification/ref/fio1_28c_3/quant.sf\\x94\\x8c&quantification/ref/fio1_12c_5/quant.sf\\x94\\x8c&quantification/ref/col0_28c_6/quant.sf\\x94\\x8c&quantification/ref/fio1_20c_2/quant.sf\\x94\\x8c&quantification/ref/col0_20c_3/quant.sf\\x94\\x8c&quantification/ref/col0_12c_4/quant.sf\\x94\\x8c&quantification/ref/col0_12c_6/quant.sf\\x94\\x8c&quantification/ref/fio1_28c_6/quant.sf\\x94\\x8c&quantification/ref/col0_20c_5/quant.sf\\x94\\x8c&quantification/ref/fio1_04c_5/quant.sf\\x94\\x8c&quantification/ref/fio1_12c_4/quant.sf\\x94\\x8c&quantification/ref/col0_04c_2/quant.sf\\x94\\x8c&quantification/ref/fio1_04c_3/quant.sf\\x94\\x8c&quantification/ref/col0_28c_2/quant.sf\\x94\\x8c&quantification/ref/col0_12c_5/quant.sf\\x94\\x8c&quantification/ref/fio1_04c_6/quant.sf\\x94\\x8c&quantification/ref/col0_20c_4/quant.sf\\x94\\x8c&quantification/ref/fio1_20c_6/quant.sf\\x94\\x8c&quantification/ref/col0_12c_2/quant.sf\\x94\\x8c&quantification/ref/fio1_04c_2/quant.sf\\x94\\x8c&quantification/ref/col0_04c_4/quant.sf\\x94\\x8c&quantification/ref/fio1_12c_2/quant.sf\\x94\\x8c&quantification/ref/col0_04c_3/quant.sf\\x94\\x8c&quantification/ref/fio1_20c_4/quant.sf\\x94\\x8c&quantification/ref/col0_04c_1/quant.sf\\x94\\x8c&quantification/ref/fio1_28c_5/quant.sf\\x94\\x8c&quantification/ref/fio1_04c_1/quant.sf\\x94\\x8c&quantification/ref/col0_20c_6/quant.sf\\x94\\x8c&quantification/ref/col0_04c_6/quant.sf\\x94\\x8c&quantification/ref/col0_12c_3/quant.sf\\x94\\x8c&quantification/ref/col0_28c_1/quant.sf\\x94\\x8c&quantification/ref/fio1_20c_5/quant.sf\\x94\\x8c&quantification/ref/col0_04c_5/quant.sf\\x94\\x8c&quantification/ref/col0_20c_1/quant.sf\\x94\\x8c&quantification/ref/fio1_12c_3/quant.sf\\x94e}\\x94(\\x8c\\x06_names\\x94}\\x94\\x8c\\rsalmon_quants\\x94K\\x00K0\\x86\\x94s\\x8c\\x12_allowed_overrides\\x94]\\x94(\\x8c\\x05index\\x94\\x8c\\x04sort\\x94ehA\\x8c\\tfunctools\\x94\\x8c\\x07partial\\x94\\x93\\x94h\\x06\\x8c\\x19Namedlist._used_attribute\\x94\\x93\\x94\\x85\\x94R\\x94(hG)}\\x94\\x8c\\x05_name\\x94hAsNt\\x94bhBhEhG\\x85\\x94R\\x94(hG)}\\x94hKhBsNt\\x94bh=h\\x06\\x8c\\tNamedlist\\x94\\x93\\x94)\\x81\\x94(h\\nh\\x0bh\\x0ch\\rh\\x0eh\\x0fh\\x10h\\x11h\\x12h\\x13h\\x14h\\x15h\\x16h\\x17h\\x18h\\x19h\\x1ah\\x1bh\\x1ch\\x1dh\\x1eh\\x1fh h!h\"h#h$h%h&h\\'h(h)h*h+h,h-h.h/h0h1h2h3h4h5h6h7h8h9e}\\x94(h;}\\x94h?]\\x94(hAhBehAhEhG\\x85\\x94R\\x94(hG)}\\x94hKhAsNt\\x94bhBhEhG\\x85\\x94R\\x94(hG)}\\x94hKhBsNt\\x94bubub\\x8c\\x06output\\x94h\\x06\\x8c\\x0bOutputFiles\\x94\\x93\\x94)\\x81\\x94(\\x8c\\x1aquantification/ref/cpm.tsv\\x94\\x8c\\x1aquantification/ref/dge.tsv\\x94\\x8c\\x1aquantification/ref/pca.svg\\x94e}\\x94(h;}\\x94(\\x8c\\x03cpm\\x94K\\x00N\\x86\\x94\\x8c\\x03dge\\x94K\\x01N\\x86\\x94\\x8c\\x08pca_plot\\x94K\\x02N\\x86\\x94uh?]\\x94(hAhBehAhEhG\\x85\\x94R\\x94(hG)}\\x94hKhAsNt\\x94bhBhEhG\\x85\\x94R\\x94(hG)}\\x94hKhBsNt\\x94bhhhchjhdhlheub\\x8c\\x06params\\x94h\\x06\\x8c\\x06Params\\x94\\x93\\x94)\\x81\\x94}\\x94(h;}\\x94h?]\\x94(hAhBehAhEhG\\x85\\x94R\\x94(hG)}\\x94hKhAsNt\\x94bhBhEhG\\x85\\x94R\\x94(hG)}\\x94hKhBsNt\\x94bub\\x8c\\twildcards\\x94h\\x06\\x8c\\tWildcards\\x94\\x93\\x94)\\x81\\x94\\x8c\\x03ref\\x94a}\\x94(h;}\\x94\\x8c\\x08ref_type\\x94K\\x00N\\x86\\x94sh?]\\x94(hAhBehAhEhG\\x85\\x94R\\x94(hG)}\\x94hKhAsNt\\x94bhBhEhG\\x85\\x94R\\x94(hG)}\\x94hKhBsNt\\x94b\\x8c\\x08ref_type\\x94h\\x8aub\\x8c\\x07threads\\x94K\\x01\\x8c\\tresources\\x94h\\x06\\x8c\\tResources\\x94\\x93\\x94)\\x81\\x94(K\\x01K\\x01\\x8c\\x04/tmp\\x94e}\\x94(h;}\\x94(\\x8c\\x06_cores\\x94K\\x00N\\x86\\x94\\x8c\\x06_nodes\\x94K\\x01N\\x86\\x94\\x8c\\x06tmpdir\\x94K\\x02N\\x86\\x94uh?]\\x94(hAhBehAhEhG\\x85\\x94R\\x94(hG)}\\x94hKhAsNt\\x94bhBhEhG\\x85\\x94R\\x94(hG)}\\x94hKhBsNt\\x94bh\\xa1K\\x01h\\xa3K\\x01h\\xa5h\\x9eub\\x8c\\x03log\\x94h\\x06\\x8c\\x03Log\\x94\\x93\\x94)\\x81\\x94\\x8c%notebook_processed/edger_ref.py.ipynb\\x94a}\\x94(h;}\\x94\\x8c\\x08notebook\\x94K\\x00N\\x86\\x94sh?]\\x94(hAhBehAhEhG\\x85\\x94R\\x94(hG)}\\x94hKhAsNt\\x94bhBhEhG\\x85\\x94R\\x94(hG)}\\x94hKhBsNt\\x94bh\\xb7h\\xb4ub\\x8c\\x06config\\x94}\\x94(\\x8c\\x0fgenome_fasta_fn\\x94\\x8c:../annotations/Arabidopsis_thaliana.TAIR10.dna.toplevel.fa\\x94\\x8c\\x0cannot_gtf_fn\\x94\\x8cA../annotations/Araport11_GFF3_genes_transposons.201606.no_chr.gtf\\x94\\x8c\\x16transcriptome_fasta_fn\\x94]\\x94(\\x8c0../annotations/Araport11_genes.201606.cdna.fasta\\x94\\x8c5../annotations/Araport11_non_coding.201606.cdna.fasta\\x94e\\x8c\\x11proteome_fasta_fn\\x94\\x8c4../annotations/Araport11_genes.201606.pep.repr.fasta\\x94\\x8c\\x14fastq_screen_genomes\\x94}\\x94(\\x8c\\tathaliana\\x94\\x8c:../annotations/Arabidopsis_thaliana.TAIR10.dna.toplevel.fa\\x94\\x8c\\x08hsapiens\\x94\\x8c=../annotations/Homo_sapiens.GRCh38.dna_sm.primary_assembly.fa\\x94\\x8c\\x07at_rrna\\x94\\x8c\\x1c../annotations/arath_rrna.fa\\x94\\x8c\\x05ecoli\\x94\\x8c\"../annotations/ecoli_k12_mg1655.fa\\x94u\\x8c\\x11suppa_comparisons\\x94]\\x94(\\x8c\\x14col0_04c_vs_col0_20c\\x94\\x8c\\x14col0_12c_vs_col0_20c\\x94\\x8c\\x14col0_28c_vs_col0_20c\\x94\\x8c\\x14fio1_04c_vs_fio1_20c\\x94\\x8c\\x14fio1_12c_vs_fio1_20c\\x94\\x8c\\x14fio1_28c_vs_fio1_20c\\x94\\x8c\\x14fio1_04c_vs_col0_04c\\x94\\x8c\\x14fio1_12c_vs_col0_12c\\x94\\x8c\\x14fio1_20c_vs_col0_20c\\x94\\x8c\\x14fio1_28c_vs_col0_28c\\x94eu\\x8c\\x04rule\\x94\\x8c\\trun_edger\\x94\\x8c\\x0fbench_iteration\\x94N\\x8c\\tscriptdir\\x94\\x8cQ/cluster/ggs_lab/mtparker/papers/fiona/fiona_temp_rnaseq/rules/notebook_templates\\x94ub.'); from snakemake.logging import logger; logger.printshellcmds = False; import os; os.chdir(r'/cluster/ggs_lab/mtparker/papers/fiona/fiona_temp_rnaseq/pipeline');\n",
    "######## snakemake preamble end #########\n"
   ]
  },
  {
   "cell_type": "code",
   "execution_count": null,
   "metadata": {},
   "outputs": [],
   "source": [
    "import sys\n",
    "import os\n",
    "import re\n",
    "from glob import glob\n",
    "import random\n",
    "import itertools as it\n",
    "import warnings\n",
    "from collections import Counter\n",
    "\n",
    "import numpy as np\n",
    "import pandas as pd\n",
    "from scipy import stats\n",
    "import matplotlib.pyplot as plt\n",
    "from matplotlib.colors import ListedColormap\n",
    "import seaborn as sns\n",
    "from sklearn.decomposition import PCA\n",
    "\n",
    "%load_ext rpy2.ipython\n",
    "from rpy2 import robjects as robj\n",
    "from rpy2.robjects.packages import importr\n",
    "from rpy2.robjects.conversion import localconverter\n",
    "from rpy2.rinterface import RRuntimeWarning\n",
    "\n",
    "from rpy2.robjects import pandas2ri\n",
    "\n",
    "warnings.filterwarnings(\"ignore\", category=RRuntimeWarning)\n",
    "\n",
    "## Default plotting params\n",
    "\n",
    "%matplotlib inline\n",
    "sns.set(font='Arial')\n",
    "plt.rcParams['svg.fonttype'] = 'none'\n",
    "style = sns.axes_style('white')\n",
    "style.update(sns.axes_style('ticks'))\n",
    "style['xtick.major.size'] = 1\n",
    "style['ytick.major.size'] = 1\n",
    "sns.set(font_scale=1.2, style=style)\n",
    "pal = sns.color_palette(['#0072b2', '#d55e00', '#009e73', '#f0e442', '#cc79a7', '#56b4e9', '#e69f00'])\n",
    "cmap = ListedColormap(pal.as_hex())\n",
    "sns.set_palette(pal)\n",
    "sns.palplot(pal)\n",
    "plt.show()"
   ]
  },
  {
   "cell_type": "code",
   "execution_count": null,
   "metadata": {},
   "outputs": [],
   "source": [
    "sample_fns = [str(fn) for fn in snakemake.input.salmon_quants]\n",
    "sample_ids = [fn.split('/')[-2] for fn in sample_fns]\n",
    "print(sample_ids)"
   ]
  },
  {
   "cell_type": "code",
   "execution_count": null,
   "metadata": {},
   "outputs": [],
   "source": [
    "rstats = importr('stats')\n",
    "rbase = importr('base')\n",
    "edgeR = importr('edgeR')\n",
    "limma = importr('limma')\n",
    "tximport = importr('tximport')\n",
    "\n",
    "\n",
    "def to_r_dataframe(pd_df):\n",
    "    with localconverter(robj.default_converter + pandas2ri.converter):\n",
    "        r_from_pd_df = robj.conversion.py2rpy(pd_df)\n",
    "    return r_from_pd_df\n",
    "\n",
    "\n",
    "def to_r_matrix(pd_df):\n",
    "    r_df  = to_r_dataframe(pd_df)\n",
    "    return rbase.as_matrix(r_df)\n",
    "\n",
    "\n",
    "def to_pd_dataframe(sobj):\n",
    "    with localconverter(robj.default_converter + pandas2ri.converter):\n",
    "        pd_from_r_df = robj.conversion.rpy2py(robj.r('as.data.frame')(sobj))\n",
    "    return pd_from_r_df\n",
    "\n",
    "\n",
    "def get_sample_ids(conds, reps):\n",
    "    sample_names = np.repeat(conds, reps).tolist()\n",
    "    sample_nos = np.concatenate([np.arange(n) + 1 for n in reps])\n",
    "    sample_ids = [f'{sn}_{n}' for sn, n in zip(sample_names, sample_nos)]\n",
    "    return sample_names, sample_ids\n",
    "\n",
    "\n",
    "def read_salmon(fn, sample_ids):\n",
    "    tx2gene = pd.read_table(fn[0], usecols=[0], names=['TXNAME'], header=0)\n",
    "    tx2gene['GENENAME'] = tx2gene.TXNAME.str.split('[._]', expand=True)[0]\n",
    "    tx2gene = to_r_dataframe(tx2gene)\n",
    "    fn = robj.StrVector(np.array(fn))\n",
    "    fn.names = sample_ids\n",
    "    salmon_data = tximport.tximport(\n",
    "        fn, type='salmon', tx2gene=tx2gene, dropInfReps=True)\n",
    "    return salmon_data.rx2('counts'), salmon_data.rx2('length')\n",
    "\n",
    "\n",
    "def create_dgelist(counts, group):\n",
    "    _create_dgelist = robj.r('''\n",
    "        function (counts, group) {\n",
    "            y <- edgeR::DGEList(counts, group=group)\n",
    "            y <- calcNormFactors(y, method='TMM')\n",
    "            keep <- filterByExpr(y, group=group)\n",
    "            y <- y[keep, keep.lib.sizes=TRUE]\n",
    "            return (y)\n",
    "        }\n",
    "    ''')\n",
    "    group = robj.FactorVector(group)\n",
    "    dgelist = _create_dgelist(counts, group)\n",
    "    dgelist = edgeR.estimateDisp(dgelist)\n",
    "    return dgelist\n",
    "\n",
    "\n",
    "def get_normalised_counts(dgelist):\n",
    "    cpm = edgeR.cpm(dgelist, log=True)\n",
    "    cpm_df = to_pd_dataframe(cpm)\n",
    "    return cpm_df\n",
    "\n",
    "\n",
    "def model_matrix(exprs, dgelist, use_group=False):\n",
    "    if exprs is None:\n",
    "        exprs = robj.NULL\n",
    "    _model_matrix = robj.r('''\n",
    "        function (exprs, dgelist, use_group) {\n",
    "            if (use_group) {\n",
    "                design <- stats::model.matrix(~0 + dgelist$samples$group)\n",
    "                colnames(design) <- levels(dgelist$samples$group)\n",
    "                rownames(design) <- rownames(dgelist$samples)\n",
    "            } else {\n",
    "                design <- stats::model.matrix(exprs, data=dgelist$samples)\n",
    "            }\n",
    "            colnames(design) <- gsub(':', '_x_', colnames(design))\n",
    "            return (design)\n",
    "        }\n",
    "    ''')\n",
    "    design = _model_matrix(\n",
    "        robj.Formula(exprs), dgelist, use_group\n",
    "    )\n",
    "    return design\n",
    "\n",
    "\n",
    "def get_dgelist_and_cpm(salmon_fns, sample_ids, samples_col_names):\n",
    "    group = [sn.rsplit('_', 1)[0] for sn in sample_ids]\n",
    "    counts, length = read_salmon(salmon_fns, sample_ids)\n",
    "    dgelist = create_dgelist(counts, group)\n",
    "    return dgelist, get_normalised_counts(dgelist)\n",
    "\n",
    "\n",
    "def cfit_to_df(cfit):\n",
    "    tt = edgeR.topTags(cfit, n=np.inf, adjust_method='BH', sort_by='none')\n",
    "    return to_pd_dataframe(tt)\n",
    "\n",
    "\n",
    "def run_edgr_de(dgelist, design_exprs=None, use_group=False, **contrasts):\n",
    "    if design_exprs is None and not use_group:\n",
    "        raise ValueError()\n",
    "    design = model_matrix(design_exprs, dgelist, use_group=use_group)\n",
    "    fit = edgeR.glmFit(dgelist, design)\n",
    "    coef = limma.makeContrasts(**contrasts, levels=design)\n",
    "    cfit = edgeR.glmLRT(fit, contrast=coef)\n",
    "    return cfit_to_df(cfit), coef, design"
   ]
  },
  {
   "cell_type": "markdown",
   "metadata": {},
   "source": [
    "## Gene expression analysis"
   ]
  },
  {
   "cell_type": "code",
   "execution_count": null,
   "metadata": {},
   "outputs": [],
   "source": [
    "dgelist, cpm = get_dgelist_and_cpm(sample_fns, sample_ids, ['geno', 'temp'])"
   ]
  },
  {
   "cell_type": "code",
   "execution_count": null,
   "metadata": {},
   "outputs": [],
   "source": [
    "cpm.to_csv(snakemake.output.cpm)\n",
    "cpm.head()"
   ]
  },
  {
   "cell_type": "code",
   "execution_count": null,
   "metadata": {},
   "outputs": [],
   "source": [
    "comps = PCA(n_components=2).fit_transform(cpm.T)\n",
    "comps = pd.DataFrame(comps, columns=['Component 1', 'Component 2'], index=cpm.columns)\n",
    "comps['Genotype'] = comps.index.to_series().str.split('_', expand=True)[0].map({'col0': 'Col-0', 'fio1': 'fio1-3'})\n",
    "comps['Temperature'] = comps.index.to_series().str.split('_', expand=True)[1].str[:-1].str.lstrip('0')"
   ]
  },
  {
   "cell_type": "code",
   "execution_count": null,
   "metadata": {},
   "outputs": [],
   "source": [
    "fig, ax = plt.subplots(figsize=(7, 7))\n",
    "sns.scatterplot(x='Component 1', y='Component 2', hue='Temperature', style='Genotype', data=comps)\n",
    "ax.legend(loc=5, ncol=3)\n",
    "plt.savefig(snakemake.output.pca_plot)\n",
    "plt.show()"
   ]
  },
  {
   "cell_type": "code",
   "execution_count": null,
   "metadata": {},
   "outputs": [],
   "source": [
    "fio1_vs_col0_de, coef, design = run_edgr_de(\n",
    "    dgelist,\n",
    "    use_group=True,\n",
    "    fio1_vs_col0='(fio1_04c + fio1_12c + fio1_20c + fio1_28c) / 4 - (col0_04c + col0_12c + col0_20c + col0_28c) / 4',\n",
    "    very_low_temp='col0_04c - (col0_12c + col0_20c) / 2',\n",
    "    low_temp='(col0_04c + col0_12c) / 2 - col0_20c',\n",
    "    high_temp='col0_28c - col0_20c',\n",
    "    extreme_temp = '(col0_04c + col0_28c) / 2 - (col0_12c + col0_20c) / 2',\n",
    "    fio1_low_temp='(fio1_04c - col0_04c) - (fio1_20c - col0_20c)',\n",
    "    fio1_high_temp='(fio1_28c - col0_28c) - (fio1_20c - col0_20c)',\n",
    ")"
   ]
  },
  {
   "cell_type": "code",
   "execution_count": null,
   "metadata": {},
   "outputs": [],
   "source": [
    "fio1_vs_col0_de.to_csv(snakemake.output.dge)\n",
    "fio1_vs_col0_de.head()"
   ]
  },
  {
   "cell_type": "markdown",
   "metadata": {},
   "source": [
    "## Individual gene plots"
   ]
  },
  {
   "cell_type": "code",
   "execution_count": null,
   "metadata": {},
   "outputs": [],
   "source": [
    "def plot_single_gene(gene_id, ax=None, title=None):\n",
    "    if ax is None:\n",
    "        fig, ax = plt.subplots(figsize=(5, 5))\n",
    "    sns.stripplot(\n",
    "        x='temp',\n",
    "        y='cpm',\n",
    "        hue='geno',\n",
    "        data=cpm_melt.query(f'index==\"{gene_id}\"'),\n",
    "        jitter=0.3,\n",
    "        dodge=True,\n",
    "        hue_order=['col0', 'fio1'],\n",
    "        ax=ax\n",
    "    )\n",
    "    sns.boxplot(\n",
    "        x='temp',\n",
    "        y='cpm',\n",
    "        hue='geno',\n",
    "        data=cpm_melt.query(f'index==\"{gene_id}\"'),\n",
    "        color='#eeeeee',\n",
    "        ax=ax,\n",
    "        showfliers=False,\n",
    "        hue_order=['col0', 'fio1'],\n",
    "    )\n",
    "    ax.legend_.remove()\n",
    "    h1 = ax.scatter([], [], color=pal[0], label='Col-0')\n",
    "    h2 = ax.scatter([], [], color=pal[1], label='fio1-3')\n",
    "    ax.legend([h1, h2], ['Col-0', 'fio1-3'])\n",
    "    ax.set_xlabel('Temperature (°C)')\n",
    "    ax.set_ylabel('Log2 counts per million')\n",
    "    if title is None:\n",
    "        ax.set_title(gene_id)\n",
    "    else:\n",
    "        ax.set_title(title)\n",
    "    return ax\n",
    "\n",
    "\n",
    "cpm_melt = pd.melt(\n",
    "    cpm.reset_index(),\n",
    "    id_vars='index',\n",
    "    value_vars=cpm.columns,\n",
    "    value_name='cpm',\n",
    "    var_name='sample_id'\n",
    ")\n",
    "cpm_melt = cpm_melt.join(\n",
    "    cpm_melt.sample_id.str.split('_', expand=True).rename(columns={0:'geno', 1:'temp', 2:'rep'})\n",
    ")\n",
    "cpm_melt['temp'] = cpm_melt.temp.str.strip('c').astype(int)\n",
    "cpm_melt.head()"
   ]
  },
  {
   "cell_type": "markdown",
   "metadata": {},
   "source": [
    "What is the expression of FIO1 in the *fio1-3* mutant?"
   ]
  },
  {
   "cell_type": "code",
   "execution_count": null,
   "metadata": {},
   "outputs": [],
   "source": [
    "plot_single_gene('AT2G21070', title='FIO1')\n",
    "plt.savefig(snakemake.output.fio1_plot)\n",
    "plt.show()"
   ]
  },
  {
   "cell_type": "markdown",
   "metadata": {},
   "source": [
    "Expression of flowering time related genes in the *fio1-3* mutant"
   ]
  },
  {
   "cell_type": "code",
   "execution_count": null,
   "metadata": {},
   "outputs": [],
   "source": [
    "fig, axes = plt.subplots(figsize=(15, 10), ncols=3, nrows=2)\n",
    "for gene_id, gene_name, ax in zip(\n",
    "    ['AT1G77080', 'AT5G65050', 'AT5G65060', 'AT5G65070', 'AT5G65080',],\n",
    "    ['FLM', 'MAF2', 'MAF3', 'MAF4', 'MAF5'],\n",
    "    axes.ravel()):\n",
    "    plot_single_gene(gene_id, ax, title=gene_name)\n",
    "plt.tight_layout()\n",
    "plt.savefig(snakemake.output.mafs_plot)\n",
    "plt.show()"
   ]
  },
  {
   "cell_type": "code",
   "execution_count": null,
   "metadata": {},
   "outputs": [],
   "source": [
    "fig, axes = plt.subplots(figsize=(15, 10), ncols=3, nrows=2)\n",
    "for gene_id, gene_name, ax in zip(\n",
    "    ['AT5G15840', 'AT1G65480', 'AT2G45660',\n",
    "     'AT2G22540', 'AT5G10140', 'AT5G01675'],\n",
    "    ['CO', 'FT', 'SOC1', 'SVP', 'FLC', 'COOLAIR'],\n",
    "    axes.ravel()):\n",
    "    plot_single_gene(gene_id, ax, title=gene_name)\n",
    "plt.tight_layout()\n",
    "plt.savefig(snakemake.output.ft_plot)\n",
    "plt.show()"
   ]
  }
 ],
 "metadata": {
  "kernelspec": {
   "display_name": "Python 3",
   "language": "python",
   "name": "python3"
  },
  "language_info": {
   "codemirror_mode": {
    "name": "ipython",
    "version": 3
   },
   "file_extension": ".py",
   "mimetype": "text/x-python",
   "name": "python",
   "nbconvert_exporter": "python",
   "pygments_lexer": "ipython3",
   "version": "3.7.8"
  }
 },
 "nbformat": 4,
 "nbformat_minor": 5
}
