{
 "cells": [
  {
   "cell_type": "code",
   "execution_count": 1,
   "id": "854acfb4",
   "metadata": {
    "execution": {
     "iopub.execute_input": "2022-02-20T19:49:55.663248Z",
     "iopub.status.busy": "2022-02-20T19:49:55.655926Z",
     "iopub.status.idle": "2022-02-20T19:49:55.884082Z",
     "shell.execute_reply": "2022-02-20T19:49:55.882786Z"
    },
    "tags": [
     "snakemake-job-properties"
    ]
   },
   "outputs": [],
   "source": [
    "\n",
    "######## snakemake preamble start (automatically inserted, do not edit) ########\n",
    "import sys; sys.path.extend(['/cluster/ggs_lab/mtparker/.conda/envs/snakemake6/lib/python3.10/site-packages', '/cluster/ggs_lab/mtparker/papers/fiona/fiona_temp_rnaseq/rules/notebook_templates']); import pickle; snakemake = pickle.loads(b'\\x80\\x04\\x951\\x14\\x00\\x00\\x00\\x00\\x00\\x00\\x8c\\x10snakemake.script\\x94\\x8c\\tSnakemake\\x94\\x93\\x94)\\x81\\x94}\\x94(\\x8c\\x05input\\x94\\x8c\\x0csnakemake.io\\x94\\x8c\\nInputFiles\\x94\\x93\\x94)\\x81\\x94(\\x8c\\x1fsplicing/denovo/fio1_04c_SE.psi\\x94\\x8c\\x1fsplicing/denovo/fio1_04c_A3.psi\\x94\\x8c\\x1fsplicing/denovo/fio1_04c_A5.psi\\x94\\x8c\\x1fsplicing/denovo/fio1_04c_MX.psi\\x94\\x8c\\x1fsplicing/denovo/fio1_04c_RI.psi\\x94\\x8c\\x1fsplicing/denovo/fio1_04c_AF.psi\\x94\\x8c\\x1fsplicing/denovo/fio1_04c_AL.psi\\x94\\x8c\\x1fsplicing/denovo/fio1_28c_SE.psi\\x94\\x8c\\x1fsplicing/denovo/fio1_28c_A3.psi\\x94\\x8c\\x1fsplicing/denovo/fio1_28c_A5.psi\\x94\\x8c\\x1fsplicing/denovo/fio1_28c_MX.psi\\x94\\x8c\\x1fsplicing/denovo/fio1_28c_RI.psi\\x94\\x8c\\x1fsplicing/denovo/fio1_28c_AF.psi\\x94\\x8c\\x1fsplicing/denovo/fio1_28c_AL.psi\\x94\\x8c\\x1fsplicing/denovo/col0_12c_SE.psi\\x94\\x8c\\x1fsplicing/denovo/col0_12c_A3.psi\\x94\\x8c\\x1fsplicing/denovo/col0_12c_A5.psi\\x94\\x8c\\x1fsplicing/denovo/col0_12c_MX.psi\\x94\\x8c\\x1fsplicing/denovo/col0_12c_RI.psi\\x94\\x8c\\x1fsplicing/denovo/col0_12c_AF.psi\\x94\\x8c\\x1fsplicing/denovo/col0_12c_AL.psi\\x94\\x8c\\x1fsplicing/denovo/col0_04c_SE.psi\\x94\\x8c\\x1fsplicing/denovo/col0_04c_A3.psi\\x94\\x8c\\x1fsplicing/denovo/col0_04c_A5.psi\\x94\\x8c\\x1fsplicing/denovo/col0_04c_MX.psi\\x94\\x8c\\x1fsplicing/denovo/col0_04c_RI.psi\\x94\\x8c\\x1fsplicing/denovo/col0_04c_AF.psi\\x94\\x8c\\x1fsplicing/denovo/col0_04c_AL.psi\\x94\\x8c\\x1fsplicing/denovo/fio1_20c_SE.psi\\x94\\x8c\\x1fsplicing/denovo/fio1_20c_A3.psi\\x94\\x8c\\x1fsplicing/denovo/fio1_20c_A5.psi\\x94\\x8c\\x1fsplicing/denovo/fio1_20c_MX.psi\\x94\\x8c\\x1fsplicing/denovo/fio1_20c_RI.psi\\x94\\x8c\\x1fsplicing/denovo/fio1_20c_AF.psi\\x94\\x8c\\x1fsplicing/denovo/fio1_20c_AL.psi\\x94\\x8c\\x1fsplicing/denovo/fio1_12c_SE.psi\\x94\\x8c\\x1fsplicing/denovo/fio1_12c_A3.psi\\x94\\x8c\\x1fsplicing/denovo/fio1_12c_A5.psi\\x94\\x8c\\x1fsplicing/denovo/fio1_12c_MX.psi\\x94\\x8c\\x1fsplicing/denovo/fio1_12c_RI.psi\\x94\\x8c\\x1fsplicing/denovo/fio1_12c_AF.psi\\x94\\x8c\\x1fsplicing/denovo/fio1_12c_AL.psi\\x94\\x8c\\x1fsplicing/denovo/col0_20c_SE.psi\\x94\\x8c\\x1fsplicing/denovo/col0_20c_A3.psi\\x94\\x8c\\x1fsplicing/denovo/col0_20c_A5.psi\\x94\\x8c\\x1fsplicing/denovo/col0_20c_MX.psi\\x94\\x8c\\x1fsplicing/denovo/col0_20c_RI.psi\\x94\\x8c\\x1fsplicing/denovo/col0_20c_AF.psi\\x94\\x8c\\x1fsplicing/denovo/col0_20c_AL.psi\\x94\\x8c\\x1fsplicing/denovo/col0_28c_SE.psi\\x94\\x8c\\x1fsplicing/denovo/col0_28c_A3.psi\\x94\\x8c\\x1fsplicing/denovo/col0_28c_A5.psi\\x94\\x8c\\x1fsplicing/denovo/col0_28c_MX.psi\\x94\\x8c\\x1fsplicing/denovo/col0_28c_RI.psi\\x94\\x8c\\x1fsplicing/denovo/col0_28c_AF.psi\\x94\\x8c\\x1fsplicing/denovo/col0_28c_AL.psi\\x94\\x8c;annotations/suppa/denovo/stringtie_assembly_SE_friendly.tsv\\x94\\x8c;annotations/suppa/denovo/stringtie_assembly_A3_friendly.tsv\\x94\\x8c;annotations/suppa/denovo/stringtie_assembly_A5_friendly.tsv\\x94\\x8c;annotations/suppa/denovo/stringtie_assembly_MX_friendly.tsv\\x94\\x8c;annotations/suppa/denovo/stringtie_assembly_RI_friendly.tsv\\x94\\x8c;annotations/suppa/denovo/stringtie_assembly_AF_friendly.tsv\\x94\\x8c;annotations/suppa/denovo/stringtie_assembly_AL_friendly.tsv\\x94e}\\x94(\\x8c\\x06_names\\x94}\\x94(\\x8c\\x03psi\\x94K\\x00K8\\x86\\x94\\x8c\\x0efriendly_codes\\x94K8K?\\x86\\x94u\\x8c\\x12_allowed_overrides\\x94]\\x94(\\x8c\\x05index\\x94\\x8c\\x04sort\\x94ehR\\x8c\\tfunctools\\x94\\x8c\\x07partial\\x94\\x93\\x94h\\x06\\x8c\\x19Namedlist._used_attribute\\x94\\x93\\x94\\x85\\x94R\\x94(hX)}\\x94\\x8c\\x05_name\\x94hRsNt\\x94bhShVhX\\x85\\x94R\\x94(hX)}\\x94h\\\\hSsNt\\x94bhLh\\x06\\x8c\\tNamedlist\\x94\\x93\\x94)\\x81\\x94(h\\nh\\x0bh\\x0ch\\rh\\x0eh\\x0fh\\x10h\\x11h\\x12h\\x13h\\x14h\\x15h\\x16h\\x17h\\x18h\\x19h\\x1ah\\x1bh\\x1ch\\x1dh\\x1eh\\x1fh h!h\"h#h$h%h&h\\'h(h)h*h+h,h-h.h/h0h1h2h3h4h5h6h7h8h9h:h;h<h=h>h?h@hAe}\\x94(hJ}\\x94hP]\\x94(hRhSehRhVhX\\x85\\x94R\\x94(hX)}\\x94h\\\\hRsNt\\x94bhShVhX\\x85\\x94R\\x94(hX)}\\x94h\\\\hSsNt\\x94bubhNhc)\\x81\\x94(hBhChDhEhFhGhHe}\\x94(hJ}\\x94hP]\\x94(hRhSehRhVhX\\x85\\x94R\\x94(hX)}\\x94h\\\\hRsNt\\x94bhShVhX\\x85\\x94R\\x94(hX)}\\x94h\\\\hSsNt\\x94bubub\\x8c\\x06output\\x94h\\x06\\x8c\\x0bOutputFiles\\x94\\x93\\x94)\\x81\\x94(\\x8c\\x17splicing/denovo/psi.csv\\x94\\x8c\\x1bsplicing/denovo/psi_fit.csv\\x94\\x8c,figures/splicing/denovo/temp_event_types.svg\\x94\\x8c,figures/splicing/denovo/geno_event_types.svg\\x94\\x8c/figures/splicing/denovo/gxt_ddpsi_histogram.svg\\x94e}\\x94(hJ}\\x94(hLK\\x00N\\x86\\x94\\x8c\\x07psi_fit\\x94K\\x01N\\x86\\x94\\x8c\\x14event_type_temp_plot\\x94K\\x02N\\x86\\x94\\x8c\\x14event_type_geno_plot\\x94K\\x03N\\x86\\x94\\x8c\\x13gxt_ddpsi_histogram\\x94K\\x04N\\x86\\x94uhP]\\x94(hRhSehRhVhX\\x85\\x94R\\x94(hX)}\\x94h\\\\hRsNt\\x94bhShVhX\\x85\\x94R\\x94(hX)}\\x94h\\\\hSsNt\\x94bhLh\\x80h\\x88h\\x81h\\x8ah\\x82h\\x8ch\\x83h\\x8eh\\x84ub\\x8c\\x06params\\x94h\\x06\\x8c\\x06Params\\x94\\x93\\x94)\\x81\\x94}\\x94(hJ}\\x94hP]\\x94(hRhSehRhVhX\\x85\\x94R\\x94(hX)}\\x94h\\\\hRsNt\\x94bhShVhX\\x85\\x94R\\x94(hX)}\\x94h\\\\hSsNt\\x94bub\\x8c\\twildcards\\x94h\\x06\\x8c\\tWildcards\\x94\\x93\\x94)\\x81\\x94\\x8c\\x06denovo\\x94a}\\x94(hJ}\\x94\\x8c\\x08ref_type\\x94K\\x00N\\x86\\x94shP]\\x94(hRhSehRhVhX\\x85\\x94R\\x94(hX)}\\x94h\\\\hRsNt\\x94bhShVhX\\x85\\x94R\\x94(hX)}\\x94h\\\\hSsNt\\x94b\\x8c\\x08ref_type\\x94h\\xacub\\x8c\\x07threads\\x94K\\x10\\x8c\\tresources\\x94h\\x06\\x8c\\tResources\\x94\\x93\\x94)\\x81\\x94(K\\x10K\\x01M\\xe8\\x03M\\xe8\\x03\\x8c\\x13/tmp/368913.1.all.q\\x94\\x8c\\x03c6*\\x94e}\\x94(hJ}\\x94(\\x8c\\x06_cores\\x94K\\x00N\\x86\\x94\\x8c\\x06_nodes\\x94K\\x01N\\x86\\x94\\x8c\\x06mem_mb\\x94K\\x02N\\x86\\x94\\x8c\\x07disk_mb\\x94K\\x03N\\x86\\x94\\x8c\\x06tmpdir\\x94K\\x04N\\x86\\x94\\x8c\\x08hostname\\x94K\\x05N\\x86\\x94uhP]\\x94(hRhSehRhVhX\\x85\\x94R\\x94(hX)}\\x94h\\\\hRsNt\\x94bhShVhX\\x85\\x94R\\x94(hX)}\\x94h\\\\hSsNt\\x94bh\\xc4K\\x10h\\xc6K\\x01h\\xc8M\\xe8\\x03h\\xcaM\\xe8\\x03h\\xcch\\xc0\\x8c\\x08hostname\\x94h\\xc1ub\\x8c\\x03log\\x94h\\x06\\x8c\\x03Log\\x94\\x93\\x94)\\x81\\x94\\x8c*notebook_processed/psi_fit_denovo.py.ipynb\\x94a}\\x94(hJ}\\x94\\x8c\\x08notebook\\x94K\\x00N\\x86\\x94shP]\\x94(hRhSehRhVhX\\x85\\x94R\\x94(hX)}\\x94h\\\\hRsNt\\x94bhShVhX\\x85\\x94R\\x94(hX)}\\x94h\\\\hSsNt\\x94bh\\xe1h\\xdeub\\x8c\\x06config\\x94}\\x94(\\x8c\\x0fgenome_fasta_fn\\x94\\x8c:../annotations/Arabidopsis_thaliana.TAIR10.dna.toplevel.fa\\x94\\x8c\\x0cannot_gtf_fn\\x94\\x8cA../annotations/Araport11_GFF3_genes_transposons.201606.no_chr.gtf\\x94\\x8c\\x16transcriptome_fasta_fn\\x94]\\x94(\\x8c0../annotations/Araport11_genes.201606.cdna.fasta\\x94\\x8c5../annotations/Araport11_non_coding.201606.cdna.fasta\\x94e\\x8c\\x11proteome_fasta_fn\\x94\\x8c4../annotations/Araport11_genes.201606.pep.repr.fasta\\x94\\x8c\\x14fastq_screen_genomes\\x94}\\x94(\\x8c\\tathaliana\\x94\\x8c:../annotations/Arabidopsis_thaliana.TAIR10.dna.toplevel.fa\\x94\\x8c\\x08hsapiens\\x94\\x8c=../annotations/Homo_sapiens.GRCh38.dna_sm.primary_assembly.fa\\x94\\x8c\\x07at_rrna\\x94\\x8c\\x1c../annotations/arath_rrna.fa\\x94\\x8c\\x05ecoli\\x94\\x8c\"../annotations/ecoli_k12_mg1655.fa\\x94u\\x8c\\x11suppa_comparisons\\x94]\\x94(\\x8c\\x14col0_04c_vs_col0_20c\\x94\\x8c\\x14col0_12c_vs_col0_20c\\x94\\x8c\\x14col0_28c_vs_col0_20c\\x94\\x8c\\x14fio1_04c_vs_fio1_20c\\x94\\x8c\\x14fio1_12c_vs_fio1_20c\\x94\\x8c\\x14fio1_28c_vs_fio1_20c\\x94\\x8c\\x14fio1_04c_vs_col0_04c\\x94\\x8c\\x14fio1_12c_vs_col0_12c\\x94\\x8c\\x14fio1_20c_vs_col0_20c\\x94\\x8c\\x14fio1_28c_vs_col0_28c\\x94e\\x8c\\x0bgene_tracks\\x94]\\x94(\\x8c\\tAT5G65050\\x94\\x8c\\tAT1G77080\\x94\\x8c\\tAT5G65060\\x94\\x8c\\tAT1G33410\\x94\\x8c\\tAT4G09980\\x94\\x8c\\tAT3G04910\\x94\\x8c\\tAT3G01150\\x94\\x8c\\tAT1G01060\\x94eu\\x8c\\x04rule\\x94\\x8c\\x10linear_model_psi\\x94\\x8c\\x0fbench_iteration\\x94N\\x8c\\tscriptdir\\x94\\x8cQ/cluster/ggs_lab/mtparker/papers/fiona/fiona_temp_rnaseq/rules/notebook_templates\\x94ub.'); from snakemake.logging import logger; logger.printshellcmds = True; import os; os.chdir(r'/cluster/ggs_lab/mtparker/papers/fiona/fiona_temp_rnaseq/pipeline');\n",
    "######## snakemake preamble end #########\n"
   ]
  },
  {
   "cell_type": "code",
   "execution_count": 2,
   "id": "f0ff86a8",
   "metadata": {
    "execution": {
     "iopub.execute_input": "2022-02-20T19:49:55.901834Z",
     "iopub.status.busy": "2022-02-20T19:49:55.893230Z",
     "iopub.status.idle": "2022-02-20T19:50:03.224412Z",
     "shell.execute_reply": "2022-02-20T19:50:03.225347Z"
    }
   },
   "outputs": [],
   "source": [
    "from glob import glob\n",
    "from snakemake.io import glob_wildcards\n",
    "import warnings\n",
    "\n",
    "import numpy as np\n",
    "import pandas as pd\n",
    "from scipy import stats\n",
    "from statsmodels import api as sm\n",
    "from statsmodels.stats.multitest import fdrcorrection\n",
    "import matplotlib.pyplot as plt\n",
    "from matplotlib.colors import ListedColormap, Normalize\n",
    "import seaborn as sns\n",
    "from joblib import Parallel, delayed\n",
    "from IPython.display import Markdown, display_markdown\n",
    "\n",
    "## Default plotting params\n",
    "\n",
    "%matplotlib inline\n",
    "sns.set(font='Arial')\n",
    "plt.rcParams['svg.fonttype'] = 'none'\n",
    "style = sns.axes_style('white')\n",
    "style.update(sns.axes_style('ticks'))\n",
    "style['xtick.major.size'] = 1\n",
    "style['ytick.major.size'] = 1\n",
    "sns.set(font_scale=1.2, style=style)\n",
    "pal = sns.color_palette(['#0072b2', '#d55e00', '#009e73', '#f0e442', '#cc79a7', '#56b4e9', '#e69f00'])\n",
    "cmap = ListedColormap(pal.as_hex())\n",
    "sns.set_palette(pal)\n",
    "warnings.simplefilter(\"ignore\")"
   ]
  },
  {
   "cell_type": "code",
   "execution_count": 3,
   "id": "c01ec29e",
   "metadata": {
    "execution": {
     "iopub.execute_input": "2022-02-20T19:50:03.241661Z",
     "iopub.status.busy": "2022-02-20T19:50:03.240507Z",
     "iopub.status.idle": "2022-02-20T19:50:03.252825Z",
     "shell.execute_reply": "2022-02-20T19:50:03.251802Z"
    }
   },
   "outputs": [
    {
     "data": {
      "text/markdown": [
       "# Initial splicing analysis using *de novo* transcriptome assembly"
      ]
     },
     "metadata": {},
     "output_type": "display_data"
    }
   ],
   "source": [
    "def display_formatted_markdown(md, **kwargs):\n",
    "    md_f = md.format(**kwargs)\n",
    "    display_markdown(Markdown(md_f))\n",
    "\n",
    "MD_TEXT = open('../rules/notebook_templates/md_text/psi_fit.md').readlines()\n",
    "\n",
    "ref_type = {'ref': 'reference', 'denovo': '*de novo*'}\n",
    "\n",
    "display_formatted_markdown(\n",
    "    '# Initial splicing analysis using {ref_type} transcriptome assembly',\n",
    "    ref_type=ref_type[snakemake.wildcards.ref_type]\n",
    ")"
   ]
  },
  {
   "cell_type": "code",
   "execution_count": 4,
   "id": "7176909e",
   "metadata": {
    "execution": {
     "iopub.execute_input": "2022-02-20T19:50:03.262264Z",
     "iopub.status.busy": "2022-02-20T19:50:03.261130Z",
     "iopub.status.idle": "2022-02-20T19:50:03.478924Z",
     "shell.execute_reply": "2022-02-20T19:50:03.479829Z"
    }
   },
   "outputs": [],
   "source": [
    "friendly_codes = pd.concat([\n",
    "    pd.read_csv(fn, sep='\\t', index_col=0, header=None)\n",
    "    for fn in snakemake.input.friendly_codes\n",
    "]).iloc[:, 0].to_dict()"
   ]
  },
  {
   "cell_type": "code",
   "execution_count": 5,
   "id": "371f484b",
   "metadata": {
    "execution": {
     "iopub.execute_input": "2022-02-20T19:50:03.501156Z",
     "iopub.status.busy": "2022-02-20T19:50:03.495269Z",
     "iopub.status.idle": "2022-02-20T19:50:03.546836Z",
     "shell.execute_reply": "2022-02-20T19:50:03.545833Z"
    }
   },
   "outputs": [],
   "source": [
    "def process_record_metadata(record):\n",
    "    event_class = record.event_class\n",
    "    coord_code = record.coord_code\n",
    "    dpsi = record.dpsi\n",
    "    strand = record.strand\n",
    "    if event_class in ('A5', 'A3'):\n",
    "        alt1, alt2 = coord_code.split(':')\n",
    "        alt1 = np.fromstring(alt1, sep='-', dtype=int)\n",
    "        alt1[1] -= 1\n",
    "        alt2 = np.fromstring(alt2, sep='-', dtype=int)\n",
    "        alt2[1] -= 1\n",
    "        # negative dpsi means alt1 is favoured in col0\n",
    "        if dpsi < 0:\n",
    "            dpsi = abs(dpsi)\n",
    "        else:\n",
    "            # positive dpsi means alt2 is favoured in col0,\n",
    "            # so we should switch alt1 and alt2 \n",
    "            # (so that alt1 is the canonical site)\n",
    "            alt1, alt2 = alt2, alt1\n",
    "        intron_size = max(alt1[1] - alt1[0], alt2[1] - alt2[0])\n",
    "    elif event_class == 'SE':\n",
    "        ups, dwns = coord_code.split(':')\n",
    "        ups = np.fromstring(ups, sep='-', dtype=int)\n",
    "        dwns = np.fromstring(dwns, sep='-', dtype=int)\n",
    "        # alt1 is inclusion, represent as donor,acceptor of skipped exon (not spliced pair)\n",
    "        alt1 = np.array([dwns[0], ups[1] - 1])\n",
    "        alt2 = np.array([ups[0], dwns[1] - 1])\n",
    "        intron_size = alt2[1] - alt2[0]\n",
    "    elif event_class == 'MX':\n",
    "        alt1_l, alt1_r, alt2_l, alt2_r = coord_code.split(':')\n",
    "        alt1_l = np.fromstring(alt1_l, sep='-', dtype=int)\n",
    "        alt1_r = np.fromstring(alt1_r, sep='-', dtype=int)\n",
    "        alt2_l = np.fromstring(alt2_l, sep='-', dtype=int)\n",
    "        alt2_r = np.fromstring(alt2_r, sep='-', dtype=int)\n",
    "        alt1 = np.array([alt1_l, alt1_r])\n",
    "        alt2 = np.array([alt2_l, alt2_r])\n",
    "        if dpsi < 0:\n",
    "            dpsi = abs(dpsi)\n",
    "        else:\n",
    "            alt1, alt2 = alt2, alt1\n",
    "        intron_size = np.nan\n",
    "    elif event_class == 'RI':\n",
    "        alt1 = None\n",
    "        _, alt2, _ = coord_code.split(':')\n",
    "        alt2 = np.fromstring(alt2, sep='-', dtype=int)\n",
    "        alt2[1] -= 1\n",
    "        intron_size = alt2[1] - alt2[0]\n",
    "    elif event_class in ('AF', 'AL'):\n",
    "        alt1_l, alt1_r, alt2_l, alt2_r = coord_code.split(':')\n",
    "        alt1_l = np.fromstring(alt1_l, sep='-', dtype=int)\n",
    "        alt1_r = np.fromstring(alt1_r, sep='-', dtype=int)\n",
    "        alt2_l = np.fromstring(alt2_l, sep='-', dtype=int)\n",
    "        alt2_r = np.fromstring(alt2_r, sep='-', dtype=int)\n",
    "        if len(alt1_l) == 2:\n",
    "            alt1, alt2 = alt1_l, alt2_l\n",
    "        else:\n",
    "            alt1, alt2 = alt1_r, alt2_r\n",
    "        if dpsi < 0:\n",
    "            dpsi = abs(dpsi)\n",
    "        else:\n",
    "            alt1, alt2 = alt2, alt1\n",
    "        intron_size = np.nan\n",
    "    else:\n",
    "        raise NotImplementedError()\n",
    "\n",
    "    return pd.Series(\n",
    "        {\n",
    "            'event_class': event_class,\n",
    "            'chrom': record.chrom,\n",
    "            'alt1': alt1, 'alt2': alt2,\n",
    "            'strand': record.strand,\n",
    "            'gene_id': record.gene_id,\n",
    "            'dpsi': dpsi,\n",
    "            'dpsi2': record.dpsi2,\n",
    "            'intron_size': intron_size\n",
    "        },\n",
    "        name = record.name\n",
    "    )\n",
    "\n",
    "\n",
    "def read_metadata(suppa_fn):\n",
    "    psi = pd.read_csv(\n",
    "        suppa_fn, sep='\\t',\n",
    "    )\n",
    "    meta = (\n",
    "        psi.index\n",
    "           .str.extract('^([\\w\\d\\.]+);(\\w{2}):(\\w+):([\\d:-]+)[:-]([+-])$', expand=True)\n",
    "    )\n",
    "    meta.columns = ['gene_id', 'event_class', 'chrom',\n",
    "                        'coord_code', 'strand']\n",
    "    meta.index = (\n",
    "        psi.index\n",
    "           .str.split(';', expand=True)\n",
    "           .get_level_values(1)\n",
    "           .map(friendly_codes)\n",
    "    )\n",
    "    return meta\n",
    "\n",
    "\n",
    "def read_psi(suppa_fn):\n",
    "    psi = pd.read_csv(\n",
    "        suppa_fn, sep='\\t',\n",
    "    )\n",
    "    psi.index = (\n",
    "        psi.index\n",
    "           .str.split(';', expand=True)\n",
    "           .get_level_values(1)\n",
    "           .map(friendly_codes)\n",
    "    )\n",
    "    return psi\n",
    "\n",
    "\n",
    "def calculate_dpsi(psi, treat_cond, cntrl_cond):\n",
    "    treat_data = psi.loc[\n",
    "        :, psi.columns.str.startswith(treat_cond)\n",
    "    ]\n",
    "    cntrl_data = psi.loc[\n",
    "        :, psi.columns.str.startswith(cntrl_cond)\n",
    "    ]\n",
    "    dpsi = np.nanmean(treat_data, axis=1) - np.nanmean(cntrl_data, axis=1)\n",
    "    return dpsi\n",
    "\n",
    "\n",
    "def get_psi_data(event_type, fns, dpsi_comp, dpsi_comp2=None, min_sample_exprs=0.75):\n",
    "    psi = []\n",
    "    fns = sorted(fns)\n",
    "    meta = read_metadata(fns[0])\n",
    "    for fn in fns:\n",
    "        psi.append(read_psi(fn))\n",
    "    psi = pd.concat(psi, axis=1)\n",
    "    exprs_filt = psi.notnull().mean(1) >= min_sample_exprs\n",
    "    psi = psi[exprs_filt]\n",
    "    meta = meta[exprs_filt]\n",
    "    treat_cond, cntrl_cond = dpsi_comp\n",
    "    meta['dpsi'] = calculate_dpsi(\n",
    "        psi, *dpsi_comp,\n",
    "    )\n",
    "    if dpsi_comp2 is not None:\n",
    "        meta['dpsi2'] = calculate_dpsi(\n",
    "            psi, *dpsi_comp2\n",
    "        )\n",
    "    else:\n",
    "        meta['dpsi2'] = None\n",
    "    if event_type in ('A5', 'A3'):\n",
    "        psi = np.abs(psi - (meta['dpsi'] < 0).astype(int).values[:, np.newaxis])\n",
    "    meta = meta.apply(process_record_metadata, axis=1)\n",
    "    psi_meta = pd.concat(\n",
    "        {'metadata': meta, 'psi': psi},\n",
    "        axis=1\n",
    "    )\n",
    "    psi_meta = psi_meta.dropna(\n",
    "        subset=psi_meta.loc[:, pd.IndexSlice['psi', :]].columns,\n",
    "        how='all'\n",
    "    )\n",
    "    psi_meta.index.name = 'event_id'\n",
    "    return psi_meta\n",
    "\n",
    "\n",
    "def fit_geno_x_temp(d, event_id):\n",
    "    try:\n",
    "        with warnings.catch_warnings():\n",
    "            warnings.simplefilter(\"ignore\")\n",
    "            m = sm.GLM(d['psi'], d[['const', 'geno_dummy', 'temp', 'gxt', 'txt']]).fit()\n",
    "    except:\n",
    "        return [event_id] + [np.nan] * 5 + [1] * 5\n",
    "    coef = m.params.values.tolist()\n",
    "    pval = m.pvalues.values.tolist()\n",
    "    return [event_id] + coef + pval\n",
    "\n",
    "\n",
    "def melt_psi(psi, cond_dummy_name='fio1'):\n",
    "    psi = psi['psi'] # drop metadata\n",
    "    psi_melt = pd.melt(\n",
    "        psi.reset_index(),\n",
    "        id_vars='event_id',\n",
    "        value_vars=psi.columns,\n",
    "        var_name='sample_id',\n",
    "        value_name='psi'\n",
    "    ).dropna(subset=['psi'])\n",
    "    psi_melt['geno'] = psi_melt.sample_id.str.split('_', expand=True)[0]\n",
    "    psi_melt['temp'] = psi_melt.sample_id.str.extract('_(\\d+)c_', expand=True)[0].astype(int)\n",
    "    psi_melt['geno_dummy'] = (psi_melt['geno'] == cond_dummy_name).astype(int)\n",
    "    psi_melt['gxt'] = psi_melt['geno_dummy'] * psi_melt['temp']\n",
    "    psi_melt['txt'] = psi_melt['temp'] * psi_melt['temp']\n",
    "    psi_melt['const'] = 1.0\n",
    "    return psi_melt\n",
    "\n",
    "\n",
    "def psi_linear_model(psi, cond_dummy_name='fio1', n_jobs=8):\n",
    "    meta = psi['metadata']\n",
    "    psi_melt = melt_psi(psi, cond_dummy_name)\n",
    "    \n",
    "    with Parallel(n_jobs) as pool:\n",
    "        results = pool(\n",
    "            delayed(fit_geno_x_temp)(group, ev_id)\n",
    "            for ev_id, group\n",
    "            in psi_melt.groupby('event_id')\n",
    "        )\n",
    "    psi_fit = pd.DataFrame(\n",
    "        results,\n",
    "        columns=['event_id',\n",
    "                 'const_coef', 'geno_coef', 'temp_coef', 'gxt_coef', 'txt_coef',\n",
    "                 'const_pval', 'geno_pval', 'temp_pval', 'gxt_pval', 'txt_pval']\n",
    "    ).set_index('event_id')\n",
    "    for coef in ['const', 'geno', 'temp', 'gxt', 'txt']:\n",
    "        psi_fit[f'{coef}_fdr'] = fdrcorrection(psi_fit[f'{coef}_pval'])[1]\n",
    "    return meta.join(psi_fit)"
   ]
  },
  {
   "cell_type": "code",
   "execution_count": 6,
   "id": "5b609ad0",
   "metadata": {
    "execution": {
     "iopub.execute_input": "2022-02-20T19:50:03.559022Z",
     "iopub.status.busy": "2022-02-20T19:50:03.557880Z",
     "iopub.status.idle": "2022-02-20T19:51:48.422259Z",
     "shell.execute_reply": "2022-02-20T19:51:48.421053Z"
    }
   },
   "outputs": [],
   "source": [
    "all_psi = []\n",
    "for event_code in ['A5', 'A3', 'RI', 'SE', 'MX', 'AF', 'AL']:\n",
    "    fns = [fn for fn in snakemake.input.psi if fn.endswith(f'_{event_code}.psi')]\n",
    "    psi = get_psi_data(event_code, fns, dpsi_comp=('fio1', 'col0'), dpsi_comp2=('col0_04c', 'col0_20c'))\n",
    "    all_psi.append(psi)\n",
    "all_psi = pd.concat(all_psi)\n",
    "all_psi.to_csv(snakemake.output.psi)\n",
    "all_psi_fit = psi_linear_model(all_psi, n_jobs=snakemake.threads)\n",
    "all_psi_fit.to_csv(snakemake.output.psi_fit)"
   ]
  },
  {
   "cell_type": "code",
   "execution_count": 7,
   "id": "73e7c1e4",
   "metadata": {
    "execution": {
     "iopub.execute_input": "2022-02-20T19:51:48.447579Z",
     "iopub.status.busy": "2022-02-20T19:51:48.445067Z",
     "iopub.status.idle": "2022-02-20T19:51:48.724205Z",
     "shell.execute_reply": "2022-02-20T19:51:48.723052Z"
    }
   },
   "outputs": [
    {
     "data": {
      "text/markdown": [
       "Consistent with previous studies, we found that intron retention is the predominant class of alternative splicing event detected when Arabidopsis plants are subjected to different temperatures – 44.9% (2924) of the splicing events with alternative usage at different temperatures were retained introns.\n"
      ]
     },
     "metadata": {},
     "output_type": "display_data"
    },
    {
     "data": {
      "image/png": "[encoded data removed]",
      "text/plain": [
       "<Figure size 432x360 with 1 Axes>"
      ]
     },
     "metadata": {},
     "output_type": "display_data"
    }
   ],
   "source": [
    "temp_event_classes = all_psi_fit.query('(temp_fdr < 0.05 | txt_fdr < 0.05) & '\n",
    "                                       'event_class != \"AF\" & event_class != \"AL\"').event_class.value_counts()\n",
    "temp_event_classes_perc = temp_event_classes / temp_event_classes.sum() * 100\n",
    "\n",
    "display_formatted_markdown(\n",
    "    MD_TEXT[0],\n",
    "    temp_perc_ri=temp_event_classes_perc.loc['RI'],\n",
    "    temp_num_ri=temp_event_classes.loc['RI'],\n",
    ")\n",
    "\n",
    "fig, ax = plt.subplots(figsize=(6, 5))\n",
    "sns.countplot(\n",
    "    all_psi_fit.query('(temp_fdr < 0.05 | txt_fdr < 0.05)').event_class,\n",
    "    color=pal[0],\n",
    "    order=['A5', 'A3', 'SE', 'RI', 'MX'],\n",
    "    ax=ax\n",
    ")\n",
    "\n",
    "for i, ec in enumerate(['A5', 'A3', 'SE', 'RI', 'MX']):\n",
    "    n = temp_event_classes.loc[ec]\n",
    "    perc = temp_event_classes_perc.loc[ec]\n",
    "    ax.annotate(s=f'{perc:.2f}%', xy=(i, n), ha='center', va='bottom')\n",
    "\n",
    "ax.set_xticklabels([\n",
    "    'Alt 5\\'SS', 'Alt 3\\'SS',\n",
    "    'Skipped\\nexon', 'Retained\\nintron',\n",
    "    'Mutually\\nexclusive\\nexon',\n",
    "])\n",
    "ax.set_ylim(0, 3400)\n",
    "ax.set_xlabel('Splicing event class')\n",
    "ax.set_ylabel('Number of events')\n",
    "plt.tight_layout()\n",
    "plt.savefig(snakemake.output.event_type_temp_plot)\n",
    "plt.show()"
   ]
  },
  {
   "cell_type": "code",
   "execution_count": 8,
   "id": "82bab951",
   "metadata": {
    "execution": {
     "iopub.execute_input": "2022-02-20T19:51:48.740303Z",
     "iopub.status.busy": "2022-02-20T19:51:48.733057Z",
     "iopub.status.idle": "2022-02-20T19:51:48.995505Z",
     "shell.execute_reply": "2022-02-20T19:51:48.994447Z"
    }
   },
   "outputs": [
    {
     "data": {
      "text/markdown": [
       "In contrast, when we repeated this analysis to classify alternative splicing events that differ between *fio1-3* and Col-0 backgrounds, we found that a much larger proportion of alternative splicing events were classified as alternative 5’SS usage – 34.4% (2369) of FIO1–dependent splicing events were alternative 5’SSs, compared to only 18.6% (1214) of temperature-dependent events. In addition, we detected changes in the PSI of retained introns, exon skipping and alternative 3’SS selection.\n"
      ]
     },
     "metadata": {},
     "output_type": "display_data"
    },
    {
     "data": {
      "image/png": "[encoded data removed]",
      "text/plain": [
       "<Figure size 432x360 with 1 Axes>"
      ]
     },
     "metadata": {},
     "output_type": "display_data"
    }
   ],
   "source": [
    "geno_event_classes = all_psi_fit.query('(geno_fdr < 0.05 | gxt_fdr < 0.05) & '\n",
    "                                       'event_class != \"AF\" & event_class != \"AL\"').event_class.value_counts()\n",
    "geno_event_classes_perc = geno_event_classes / geno_event_classes.sum() * 100\n",
    "\n",
    "display_formatted_markdown(\n",
    "    MD_TEXT[1],\n",
    "    geno_perc_a5=geno_event_classes_perc.loc['A5'],\n",
    "    geno_num_a5=geno_event_classes.loc['A5'],\n",
    "    temp_perc_a5=temp_event_classes_perc.loc['A5'],\n",
    "    temp_num_a5=temp_event_classes.loc['A5'],\n",
    ")\n",
    "\n",
    "fig, ax = plt.subplots(figsize=(6, 5))\n",
    "sns.countplot(\n",
    "    all_psi_fit.query('geno_fdr < 0.05 | gxt_fdr < 0.05').event_class,\n",
    "    order=['A5', 'A3', 'SE', 'RI', 'MX'],\n",
    "    color=pal[0],\n",
    "    label='False',\n",
    "    ax=ax\n",
    ")\n",
    "\n",
    "for i, ec in enumerate(['A5', 'A3', 'SE', 'RI', 'MX']):\n",
    "    n = geno_event_classes.loc[ec]\n",
    "    perc = geno_event_classes_perc.loc[ec]\n",
    "    ax.annotate(s=f'{perc:.2f}%', xy=(i, n), ha='center', va='bottom')\n",
    "\n",
    "\n",
    "sns.countplot(\n",
    "    all_psi_fit.query('gxt_fdr < 0.05').event_class,\n",
    "    order=['A5', 'A3', 'SE', 'RI', 'MX'],\n",
    "    color=pal[1],\n",
    "    label='True',\n",
    "    ax=ax\n",
    ")\n",
    "\n",
    "\n",
    "ax.set_xticklabels([\n",
    "    'Alt 5\\'SS', 'Alt 3\\'SS',\n",
    "    'Skipped\\nexon', 'Retained\\nintron',\n",
    "    'Mutually\\nexclusive\\nexon',\n",
    "])\n",
    "ax.legend(title='Genotype * temp. interaction', ncol=2)\n",
    "ax.set_ylim(0, 3400)\n",
    "ax.set_xlabel('Splicing event class')\n",
    "ax.set_ylabel('Number of events')\n",
    "plt.savefig(snakemake.output.event_type_geno_plot)\n",
    "plt.show()"
   ]
  },
  {
   "cell_type": "code",
   "execution_count": 9,
   "id": "0d80dbdc",
   "metadata": {
    "execution": {
     "iopub.execute_input": "2022-02-20T19:51:49.010288Z",
     "iopub.status.busy": "2022-02-20T19:51:49.007505Z",
     "iopub.status.idle": "2022-02-20T19:51:49.020954Z",
     "shell.execute_reply": "2022-02-20T19:51:49.019896Z"
    }
   },
   "outputs": [],
   "source": [
    "# What is the overlap between events which are temperature and fio1 sensitive?\n",
    "all_psi_idx = set(all_psi_fit.index)\n",
    "temp_sig_idx = set(all_psi_fit.query('temp_fdr < 0.05 | txt_fdr < 0.05').index)\n",
    "fio1_sig_idx = set(all_psi_fit.query('geno_fdr < 0.05 | gxt_fdr < 0.05').index)\n",
    "intersection_idx = temp_sig_idx.intersection(fio1_sig_idx)\n",
    "\n",
    "hypergeom_p = stats.hypergeom.sf(\n",
    "    len(intersection_idx) - 1,\n",
    "    len(all_psi_idx),\n",
    "    len(temp_sig_idx),\n",
    "    len(fio1_sig_idx),\n",
    ")"
   ]
  },
  {
   "cell_type": "code",
   "execution_count": 10,
   "id": "c156b0d0",
   "metadata": {
    "execution": {
     "iopub.execute_input": "2022-02-20T19:51:49.037648Z",
     "iopub.status.busy": "2022-02-20T19:51:49.036440Z",
     "iopub.status.idle": "2022-02-20T19:51:49.447178Z",
     "shell.execute_reply": "2022-02-20T19:51:49.446032Z"
    }
   },
   "outputs": [
    {
     "data": {
      "text/markdown": [
       "There was a significant overlap between splicing events sensitive to loss of FIO1, and those that were sensitive to temperature (hypergeometric-test p = 9e-227). However, in 64.2% of fio1-sensitive events, loss of FIO1 did not alter splicing responses to temperature. Of the remaining 2505 splicing events which did have altered temperature sensitivity in the absence of FIO1, 38.4% (961) were alternative 5’SSs, and of these alternative 5’SSs, 69.9% had greater sensitivity to loss of FIO1 at 28oC than at 4oC. This suggests that FIO1 buffers accurate 5’SS selection at elevated temperature."
      ]
     },
     "metadata": {},
     "output_type": "display_data"
    },
    {
     "data": {
      "image/png": "[encoded data removed]",
      "text/plain": [
       "<Figure size 576x360 with 1 Axes>"
      ]
     },
     "metadata": {},
     "output_type": "display_data"
    }
   ],
   "source": [
    "# to estimate whether there is a temperature/fio1 interaction we will measure the difference between the delta\n",
    "# PSI at 4oC and 28oC.\n",
    "\n",
    "_psi = all_psi['psi']\n",
    "dpsi_28c = (\n",
    "    _psi.loc[:, _psi.columns.str.startswith('fio1_28c')].mean(1) -\n",
    "    _psi.loc[:, _psi.columns.str.startswith('col0_28c')].mean(1)\n",
    ")\n",
    "dpsi_04c = (\n",
    "    _psi.loc[:, _psi.columns.str.startswith('fio1_04c')].mean(1) -\n",
    "    _psi.loc[:, _psi.columns.str.startswith('col0_04c')].mean(1)\n",
    ")\n",
    "all_psi_fit['ddpsi'] = dpsi_28c - dpsi_04c\n",
    "\n",
    "display_formatted_markdown(\n",
    "    MD_TEXT[2],\n",
    "    geno_temp_hypg_p=hypergeom_p,\n",
    "    geno_perc_not_gxt=np.mean(all_psi_fit.query('geno_fdr < 0.05 | gxt_fdr < 0.05').gxt_fdr > 0.05) * 100,\n",
    "    geno_num_gxt=len(all_psi_fit.query('gxt_fdr < 0.05')),\n",
    "    gxt_perc_a5=np.mean(all_psi_fit.query('gxt_fdr < 0.05').event_class == 'A5') * 100,\n",
    "    gxt_num_a5=sum(all_psi_fit.query('gxt_fdr < 0.05').event_class == 'A5'),\n",
    "    a5_gxt_perc_hightemp_extreme=np.mean(all_psi_fit.query('event_class == \"A5\" & gxt_fdr < 0.05').ddpsi > 0) * 100,\n",
    ")\n",
    "\n",
    "fig, ax = plt.subplots(figsize=(8, 5))\n",
    "ax.hist(\n",
    "    all_psi_fit.query('event_class == \"A5\" & gxt_fdr < 0.05').ddpsi,\n",
    "    bins=26, range=(-0.6, 0.6)\n",
    ")\n",
    "ax.set_xlabel('ΔΔPSI 28°C vs 4°C (fio1-2 vs Col-0)')\n",
    "ax.set_ylabel('Alt. 5\\'SS events (frequency)')\n",
    "plt.savefig(snakemake.output.gxt_ddpsi_histogram)\n",
    "plt.show()"
   ]
  }
 ],
 "metadata": {
  "kernelspec": {
   "display_name": "Python 3",
   "language": "python",
   "name": "python3"
  },
  "language_info": {
   "codemirror_mode": {
    "name": "ipython",
    "version": 3
   },
   "file_extension": ".py",
   "mimetype": "text/x-python",
   "name": "python",
   "nbconvert_exporter": "python",
   "pygments_lexer": "ipython3",
   "version": "3.8.12"
  }
 },
 "nbformat": 4,
 "nbformat_minor": 5
}
