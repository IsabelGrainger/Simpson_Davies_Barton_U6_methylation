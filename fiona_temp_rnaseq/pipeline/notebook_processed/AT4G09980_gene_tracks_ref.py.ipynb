{
 "cells": [
  {
   "cell_type": "code",
   "execution_count": 1,
   "id": "de32168d",
   "metadata": {
    "execution": {
     "iopub.execute_input": "2022-02-11T16:36:38.669388Z",
     "iopub.status.busy": "2022-02-11T16:36:38.667445Z",
     "iopub.status.idle": "2022-02-11T16:36:40.240381Z",
     "shell.execute_reply": "2022-02-11T16:36:40.217733Z"
    },
    "tags": [
     "snakemake-job-properties"
    ]
   },
   "outputs": [],
   "source": [
    "\n",
    "######## snakemake preamble start (automatically inserted, do not edit) ########\n",
    "import sys; sys.path.extend(['/cluster/ggs_lab/mtparker/.conda/envs/snakemake6/lib/python3.10/site-packages', '/cluster/ggs_lab/mtparker/papers/fiona/fiona_temp_rnaseq/rules/notebook_templates']); import pickle; snakemake = pickle.loads(b'\\x80\\x04\\x95!\\x0c\\x00\\x00\\x00\\x00\\x00\\x00\\x8c\\x10snakemake.script\\x94\\x8c\\tSnakemake\\x94\\x93\\x94)\\x81\\x94}\\x94(\\x8c\\x05input\\x94\\x8c\\x0csnakemake.io\\x94\\x8c\\nInputFiles\\x94\\x93\\x94)\\x81\\x94(\\x8c\\x14splicing/ref/psi.csv\\x94\\x8c\\x18splicing/ref/psi_fit.csv\\x94\\x8c\\x1fcoverage_tracks/fio1_28c.fwd.bw\\x94\\x8c\\x1fcoverage_tracks/fio1_28c.rev.bw\\x94\\x8c\\x1fcoverage_tracks/fio1_12c.fwd.bw\\x94\\x8c\\x1fcoverage_tracks/fio1_12c.rev.bw\\x94\\x8c\\x1fcoverage_tracks/col0_28c.fwd.bw\\x94\\x8c\\x1fcoverage_tracks/col0_28c.rev.bw\\x94\\x8c\\x1fcoverage_tracks/fio1_04c.fwd.bw\\x94\\x8c\\x1fcoverage_tracks/fio1_04c.rev.bw\\x94\\x8c\\x1fcoverage_tracks/col0_04c.fwd.bw\\x94\\x8c\\x1fcoverage_tracks/col0_04c.rev.bw\\x94\\x8c\\x1fcoverage_tracks/col0_20c.fwd.bw\\x94\\x8c\\x1fcoverage_tracks/col0_20c.rev.bw\\x94\\x8c\\x1fcoverage_tracks/fio1_20c.fwd.bw\\x94\\x8c\\x1fcoverage_tracks/fio1_20c.rev.bw\\x94\\x8c\\x1fcoverage_tracks/col0_12c.fwd.bw\\x94\\x8c\\x1fcoverage_tracks/col0_12c.rev.bw\\x94\\x8c:../annotations/Arabidopsis_thaliana.TAIR10.dna.toplevel.fa\\x94e}\\x94(\\x8c\\x06_names\\x94}\\x94(\\x8c\\x03psi\\x94K\\x00N\\x86\\x94\\x8c\\x07psi_fit\\x94K\\x01N\\x86\\x94\\x8c\\x03bws\\x94K\\x02K\\x12\\x86\\x94\\x8c\\x05fasta\\x94K\\x12N\\x86\\x94u\\x8c\\x12_allowed_overrides\\x94]\\x94(\\x8c\\x05index\\x94\\x8c\\x04sort\\x94eh*\\x8c\\tfunctools\\x94\\x8c\\x07partial\\x94\\x93\\x94h\\x06\\x8c\\x19Namedlist._used_attribute\\x94\\x93\\x94\\x85\\x94R\\x94(h0)}\\x94\\x8c\\x05_name\\x94h*sNt\\x94bh+h.h0\\x85\\x94R\\x94(h0)}\\x94h4h+sNt\\x94bh h\\nh\"h\\x0bh$h\\x06\\x8c\\tNamedlist\\x94\\x93\\x94)\\x81\\x94(h\\x0ch\\rh\\x0eh\\x0fh\\x10h\\x11h\\x12h\\x13h\\x14h\\x15h\\x16h\\x17h\\x18h\\x19h\\x1ah\\x1be}\\x94(h\\x1e}\\x94h(]\\x94(h*h+eh*h.h0\\x85\\x94R\\x94(h0)}\\x94h4h*sNt\\x94bh+h.h0\\x85\\x94R\\x94(h0)}\\x94h4h+sNt\\x94bubh&h\\x1cub\\x8c\\x06output\\x94h\\x06\\x8c\\x0bOutputFiles\\x94\\x93\\x94)\\x81\\x94\\x8c6figures/splicing/ref/gene_tracks/AT4G09980_gene_tracks\\x94a}\\x94(h\\x1e}\\x94\\x8c\\x0bgene_tracks\\x94K\\x00N\\x86\\x94sh(]\\x94(h*h+eh*h.h0\\x85\\x94R\\x94(h0)}\\x94h4h*sNt\\x94bh+h.h0\\x85\\x94R\\x94(h0)}\\x94h4h+sNt\\x94bhOhLub\\x8c\\x06params\\x94h\\x06\\x8c\\x06Params\\x94\\x93\\x94)\\x81\\x94}\\x94(h\\x1e}\\x94h(]\\x94(h*h+eh*h.h0\\x85\\x94R\\x94(h0)}\\x94h4h*sNt\\x94bh+h.h0\\x85\\x94R\\x94(h0)}\\x94h4h+sNt\\x94bub\\x8c\\twildcards\\x94h\\x06\\x8c\\tWildcards\\x94\\x93\\x94)\\x81\\x94(\\x8c\\x03ref\\x94\\x8c\\tAT4G09980\\x94e}\\x94(h\\x1e}\\x94(\\x8c\\x08ref_type\\x94K\\x00N\\x86\\x94\\x8c\\x07gene_id\\x94K\\x01N\\x86\\x94uh(]\\x94(h*h+eh*h.h0\\x85\\x94R\\x94(h0)}\\x94h4h*sNt\\x94bh+h.h0\\x85\\x94R\\x94(h0)}\\x94h4h+sNt\\x94b\\x8c\\x08ref_type\\x94hmhshnub\\x8c\\x07threads\\x94K\\x01\\x8c\\tresources\\x94h\\x06\\x8c\\tResources\\x94\\x93\\x94)\\x81\\x94(K\\x01K\\x01M\\xcf\\x1bM\\xcf\\x1b\\x8c\\x13/tmp/367343.1.all.q\\x94e}\\x94(h\\x1e}\\x94(\\x8c\\x06_cores\\x94K\\x00N\\x86\\x94\\x8c\\x06_nodes\\x94K\\x01N\\x86\\x94\\x8c\\x06mem_mb\\x94K\\x02N\\x86\\x94\\x8c\\x07disk_mb\\x94K\\x03N\\x86\\x94\\x8c\\x06tmpdir\\x94K\\x04N\\x86\\x94uh(]\\x94(h*h+eh*h.h0\\x85\\x94R\\x94(h0)}\\x94h4h*sNt\\x94bh+h.h0\\x85\\x94R\\x94(h0)}\\x94h4h+sNt\\x94bh\\x87K\\x01h\\x89K\\x01h\\x8bM\\xcf\\x1bh\\x8dM\\xcf\\x1bh\\x8fh\\x84ub\\x8c\\x03log\\x94h\\x06\\x8c\\x03Log\\x94\\x93\\x94)\\x81\\x94\\x8c5notebook_processed/AT4G09980_gene_tracks_ref.py.ipynb\\x94a}\\x94(h\\x1e}\\x94\\x8c\\x08notebook\\x94K\\x00N\\x86\\x94sh(]\\x94(h*h+eh*h.h0\\x85\\x94R\\x94(h0)}\\x94h4h*sNt\\x94bh+h.h0\\x85\\x94R\\x94(h0)}\\x94h4h+sNt\\x94bh\\xa1h\\x9eub\\x8c\\x06config\\x94}\\x94(\\x8c\\x0fgenome_fasta_fn\\x94\\x8c:../annotations/Arabidopsis_thaliana.TAIR10.dna.toplevel.fa\\x94\\x8c\\x0cannot_gtf_fn\\x94\\x8cA../annotations/Araport11_GFF3_genes_transposons.201606.no_chr.gtf\\x94\\x8c\\x16transcriptome_fasta_fn\\x94]\\x94(\\x8c0../annotations/Araport11_genes.201606.cdna.fasta\\x94\\x8c5../annotations/Araport11_non_coding.201606.cdna.fasta\\x94e\\x8c\\x11proteome_fasta_fn\\x94\\x8c4../annotations/Araport11_genes.201606.pep.repr.fasta\\x94\\x8c\\x14fastq_screen_genomes\\x94}\\x94(\\x8c\\tathaliana\\x94\\x8c:../annotations/Arabidopsis_thaliana.TAIR10.dna.toplevel.fa\\x94\\x8c\\x08hsapiens\\x94\\x8c=../annotations/Homo_sapiens.GRCh38.dna_sm.primary_assembly.fa\\x94\\x8c\\x07at_rrna\\x94\\x8c\\x1c../annotations/arath_rrna.fa\\x94\\x8c\\x05ecoli\\x94\\x8c\"../annotations/ecoli_k12_mg1655.fa\\x94u\\x8c\\x11suppa_comparisons\\x94]\\x94(\\x8c\\x14col0_04c_vs_col0_20c\\x94\\x8c\\x14col0_12c_vs_col0_20c\\x94\\x8c\\x14col0_28c_vs_col0_20c\\x94\\x8c\\x14fio1_04c_vs_fio1_20c\\x94\\x8c\\x14fio1_12c_vs_fio1_20c\\x94\\x8c\\x14fio1_28c_vs_fio1_20c\\x94\\x8c\\x14fio1_04c_vs_col0_04c\\x94\\x8c\\x14fio1_12c_vs_col0_12c\\x94\\x8c\\x14fio1_20c_vs_col0_20c\\x94\\x8c\\x14fio1_28c_vs_col0_28c\\x94e\\x8c\\x0bgene_tracks\\x94]\\x94(\\x8c\\tAT5G65050\\x94\\x8c\\tAT1G77080\\x94\\x8c\\tAT5G65060\\x94\\x8c\\tAT1G33410\\x94\\x8c\\tAT4G09980\\x94\\x8c\\tAT3G04910\\x94\\x8c\\tAT3G01150\\x94\\x8c\\tAT1G01060\\x94eu\\x8c\\x04rule\\x94\\x8c\\x14generate_gene_tracks\\x94\\x8c\\x0fbench_iteration\\x94N\\x8c\\tscriptdir\\x94\\x8cQ/cluster/ggs_lab/mtparker/papers/fiona/fiona_temp_rnaseq/rules/notebook_templates\\x94ub.'); from snakemake.logging import logger; logger.printshellcmds = True; import os; os.chdir(r'/cluster/ggs_lab/mtparker/papers/fiona/fiona_temp_rnaseq/pipeline');\n",
    "######## snakemake preamble end #########\n"
   ]
  },
  {
   "cell_type": "markdown",
   "id": "08f3abaf",
   "metadata": {},
   "source": [
    "# Gene tracks"
   ]
  },
  {
   "cell_type": "code",
   "execution_count": 2,
   "id": "3d1eb45f",
   "metadata": {
    "execution": {
     "iopub.execute_input": "2022-02-11T16:36:40.287665Z",
     "iopub.status.busy": "2022-02-11T16:36:40.287202Z",
     "iopub.status.idle": "2022-02-11T16:37:33.675018Z",
     "shell.execute_reply": "2022-02-11T16:37:33.674506Z"
    }
   },
   "outputs": [
    {
     "data": {
      "image/png": "[encoded data removed]",
      "text/plain": [
       "<Figure size 504x72 with 1 Axes>"
      ]
     },
     "metadata": {},
     "output_type": "display_data"
    }
   ],
   "source": [
    "import os\n",
    "import re\n",
    "\n",
    "import numpy as np\n",
    "import pandas as pd\n",
    "import matplotlib.pyplot as plt\n",
    "from matplotlib.colors import ListedColormap\n",
    "from matplotlib import patches, gridspec\n",
    "import seaborn as sns\n",
    "from IPython.display import display_markdown, Markdown\n",
    "\n",
    "from genetrack_utils import plot_gene_track\n",
    "\n",
    "%matplotlib inline\n",
    "sns.set(font='Arial')\n",
    "plt.rcParams['svg.fonttype'] = 'none'\n",
    "style = sns.axes_style('white')\n",
    "style.update(sns.axes_style('ticks'))\n",
    "style['xtick.major.size'] = 1\n",
    "style['ytick.major.size'] = 1\n",
    "sns.set(font_scale=1.2, style=style)\n",
    "pal = sns.color_palette(['#0072b2', '#d55e00', '#009e73', '#f0e442', '#cc79a7', '#56b4e9', '#e69f00'])\n",
    "cmap = ListedColormap(pal.as_hex())\n",
    "sns.set_palette(pal)\n",
    "sns.palplot(pal)\n",
    "plt.show()"
   ]
  },
  {
   "cell_type": "code",
   "execution_count": 3,
   "id": "f319b9a2",
   "metadata": {
    "execution": {
     "iopub.execute_input": "2022-02-11T16:37:33.717253Z",
     "iopub.status.busy": "2022-02-11T16:37:33.716641Z",
     "iopub.status.idle": "2022-02-11T16:37:33.964299Z",
     "shell.execute_reply": "2022-02-11T16:37:33.963760Z"
    }
   },
   "outputs": [],
   "source": [
    "OUTPUT_PATH = snakemake.output.gene_tracks\n",
    "if not os.path.exists(OUTPUT_PATH):\n",
    "    os.makedirs(OUTPUT_PATH)"
   ]
  },
  {
   "cell_type": "code",
   "execution_count": 4,
   "id": "e5989440",
   "metadata": {
    "execution": {
     "iopub.execute_input": "2022-02-11T16:37:34.013353Z",
     "iopub.status.busy": "2022-02-11T16:37:34.012455Z",
     "iopub.status.idle": "2022-02-11T16:37:34.013792Z",
     "shell.execute_reply": "2022-02-11T16:37:34.012904Z"
    }
   },
   "outputs": [],
   "source": [
    "GENETRACK_TEMP = 20\n",
    "FWD_BWS = sorted([fn for fn in snakemake.input.bws if re.search(f'{GENETRACK_TEMP}c.fwd.bw', fn)])\n",
    "REV_BWS = sorted([fn for fn in snakemake.input.bws if re.search(f'{GENETRACK_TEMP}c.rev.bw', fn)])\n",
    "LABELS = ['Col-0', 'fio1-3']"
   ]
  },
  {
   "cell_type": "code",
   "execution_count": 5,
   "id": "88efd99f",
   "metadata": {
    "execution": {
     "iopub.execute_input": "2022-02-11T16:37:34.048909Z",
     "iopub.status.busy": "2022-02-11T16:37:34.048392Z",
     "iopub.status.idle": "2022-02-11T16:37:37.830005Z",
     "shell.execute_reply": "2022-02-11T16:37:37.829488Z"
    }
   },
   "outputs": [
    {
     "name": "stderr",
     "output_type": "stream",
     "text": [
      "/cluster/ggs_lab/mtparker/snakemake_conda_envs/envs/5933518ca69ba77f5baf137f19fd3638/lib/python3.6/site-packages/ipykernel_launcher.py:5: DeprecationWarning: string or file could not be read to its end due to unmatched data; this will raise a ValueError in the future.\n",
      "  \"\"\"\n"
     ]
    },
    {
     "data": {
      "text/html": [
       "<div>\n",
       "<style scoped>\n",
       "    .dataframe tbody tr th:only-of-type {\n",
       "        vertical-align: middle;\n",
       "    }\n",
       "\n",
       "    .dataframe tbody tr th {\n",
       "        vertical-align: top;\n",
       "    }\n",
       "\n",
       "    .dataframe thead th {\n",
       "        text-align: right;\n",
       "    }\n",
       "</style>\n",
       "<table border=\"1\" class=\"dataframe\">\n",
       "  <thead>\n",
       "    <tr style=\"text-align: right;\">\n",
       "      <th></th>\n",
       "      <th>event_class</th>\n",
       "      <th>chrom</th>\n",
       "      <th>alt1</th>\n",
       "      <th>alt2</th>\n",
       "      <th>strand</th>\n",
       "      <th>gene_id</th>\n",
       "      <th>dpsi</th>\n",
       "      <th>dpsi2</th>\n",
       "      <th>intron_size</th>\n",
       "      <th>const_coef</th>\n",
       "      <th>...</th>\n",
       "      <th>const_pval</th>\n",
       "      <th>geno_pval</th>\n",
       "      <th>temp_pval</th>\n",
       "      <th>gxt_pval</th>\n",
       "      <th>txt_pval</th>\n",
       "      <th>const_fdr</th>\n",
       "      <th>geno_fdr</th>\n",
       "      <th>temp_fdr</th>\n",
       "      <th>gxt_fdr</th>\n",
       "      <th>txt_fdr</th>\n",
       "    </tr>\n",
       "    <tr>\n",
       "      <th>event_id</th>\n",
       "      <th></th>\n",
       "      <th></th>\n",
       "      <th></th>\n",
       "      <th></th>\n",
       "      <th></th>\n",
       "      <th></th>\n",
       "      <th></th>\n",
       "      <th></th>\n",
       "      <th></th>\n",
       "      <th></th>\n",
       "      <th></th>\n",
       "      <th></th>\n",
       "      <th></th>\n",
       "      <th></th>\n",
       "      <th></th>\n",
       "      <th></th>\n",
       "      <th></th>\n",
       "      <th></th>\n",
       "      <th></th>\n",
       "      <th></th>\n",
       "      <th></th>\n",
       "    </tr>\n",
       "  </thead>\n",
       "  <tbody>\n",
       "    <tr>\n",
       "      <th>A5.1982</th>\n",
       "      <td>A5</td>\n",
       "      <td>4</td>\n",
       "      <td>[6248662, 6249115]</td>\n",
       "      <td>[6248662, 6249104]</td>\n",
       "      <td>-</td>\n",
       "      <td>AT4G09980</td>\n",
       "      <td>0.310006</td>\n",
       "      <td>-0.010634</td>\n",
       "      <td>453.0</td>\n",
       "      <td>0.019685</td>\n",
       "      <td>...</td>\n",
       "      <td>0.480768</td>\n",
       "      <td>9.631222e-09</td>\n",
       "      <td>0.225722</td>\n",
       "      <td>5.646707e-09</td>\n",
       "      <td>0.483145</td>\n",
       "      <td>0.520016</td>\n",
       "      <td>2.460398e-07</td>\n",
       "      <td>0.504523</td>\n",
       "      <td>0.000001</td>\n",
       "      <td>0.718054</td>\n",
       "    </tr>\n",
       "  </tbody>\n",
       "</table>\n",
       "<p>1 rows × 24 columns</p>\n",
       "</div>"
      ],
      "text/plain": [
       "         event_class chrom                alt1                alt2 strand  \\\n",
       "event_id                                                                    \n",
       "A5.1982           A5     4  [6248662, 6249115]  [6248662, 6249104]      -   \n",
       "\n",
       "            gene_id      dpsi     dpsi2  intron_size  const_coef  ...  \\\n",
       "event_id                                                          ...   \n",
       "A5.1982   AT4G09980  0.310006 -0.010634        453.0    0.019685  ...   \n",
       "\n",
       "          const_pval     geno_pval  temp_pval      gxt_pval  txt_pval  \\\n",
       "event_id                                                                \n",
       "A5.1982     0.480768  9.631222e-09   0.225722  5.646707e-09  0.483145   \n",
       "\n",
       "          const_fdr      geno_fdr  temp_fdr   gxt_fdr   txt_fdr  \n",
       "event_id                                                         \n",
       "A5.1982    0.520016  2.460398e-07  0.504523  0.000001  0.718054  \n",
       "\n",
       "[1 rows x 24 columns]"
      ]
     },
     "execution_count": 1,
     "metadata": {},
     "output_type": "execute_result"
    }
   ],
   "source": [
    "def convert_coords(coords):\n",
    "    if not coords:\n",
    "        return None\n",
    "    else:\n",
    "        return np.fromstring(coords.strip('[] '), sep=' ', dtype=int)\n",
    "\n",
    "psi = pd.read_csv(\n",
    "    snakemake.input.psi,\n",
    "    header=[0, 1],\n",
    "    skiprows=[2,],\n",
    "    index_col=0,\n",
    "    converters={2: str,\n",
    "                3: convert_coords,\n",
    "                4: convert_coords}\n",
    ")\n",
    "\n",
    "gene_psi = psi[psi.metadata.gene_id.str.contains(snakemake.wildcards.gene_id)].psi\n",
    "gene_psi_melt = pd.melt(\n",
    "    gene_psi.reset_index(),\n",
    "    id_vars='index',\n",
    "    value_vars=gene_psi.columns,\n",
    "    var_name='sample_id',\n",
    "    value_name='psi'\n",
    ")\n",
    "gene_psi_melt[['geno', 'temp']] = gene_psi_melt.sample_id.str.split('_', expand=True)[[0, 1]]\n",
    "gene_psi_melt['temp'] = gene_psi_melt.temp.str.extract('(\\d+)c', expand=True).astype(int)\n",
    "\n",
    "psi_fit = pd.read_csv(\n",
    "    snakemake.input.psi_fit,\n",
    "    converters={'chrom': str,\n",
    "                'alt1': convert_coords,\n",
    "                'alt2': convert_coords},\n",
    "    index_col=0\n",
    ")\n",
    "gene_psi_fit = psi_fit[psi_fit.gene_id.str.contains(snakemake.wildcards.gene_id)]\n",
    "gene_psi_fit_sig = gene_psi_fit.query('(geno_fdr < 0.05 | gxt_fdr < 0.05) & abs(dpsi) > 0.05')\n",
    "gene_psi_fit_sig"
   ]
  },
  {
   "cell_type": "code",
   "execution_count": 6,
   "id": "93cdf1b3",
   "metadata": {
    "execution": {
     "iopub.execute_input": "2022-02-11T16:37:37.873177Z",
     "iopub.status.busy": "2022-02-11T16:37:37.872489Z",
     "iopub.status.idle": "2022-02-11T16:37:55.096531Z",
     "shell.execute_reply": "2022-02-11T16:37:55.073751Z"
    }
   },
   "outputs": [
    {
     "data": {
      "text/markdown": [
       "## AT4G09980 gene tracks and boxplots"
      ]
     },
     "metadata": {},
     "output_type": "display_data"
    },
    {
     "data": {
      "image/png": "[encoded data removed]",
      "text/plain": [
       "<Figure size 1080x360 with 3 Axes>"
      ]
     },
     "metadata": {},
     "output_type": "display_data"
    }
   ],
   "source": [
    "display_markdown(Markdown(f'## {snakemake.wildcards.gene_id} gene tracks and boxplots'))\n",
    "for event_id, record in gene_psi_fit_sig.iterrows():\n",
    "    try:\n",
    "        plot_gene_track(\n",
    "            record, gene_psi_melt.query(f'index == \"{event_id}\"'),\n",
    "            FWD_BWS if record.strand == '+' else REV_BWS,\n",
    "            LABELS,\n",
    "            snakemake.input.fasta,\n",
    "            title=f'{snakemake.wildcards.gene_id} {event_id}'\n",
    "        )\n",
    "        plt.savefig(os.path.join(OUTPUT_PATH, f'{snakemake.wildcards.gene_id}_{event_id}_gene_track.svg'))\n",
    "        plt.show()\n",
    "    except NotImplementedError:\n",
    "        continue"
   ]
  },
  {
   "cell_type": "code",
   "execution_count": null,
   "id": "c23ded01",
   "metadata": {},
   "outputs": [],
   "source": []
  }
 ],
 "metadata": {
  "kernelspec": {
   "display_name": "Python 3",
   "language": "python",
   "name": "python3"
  },
  "language_info": {
   "codemirror_mode": {
    "name": "ipython",
    "version": 3
   },
   "file_extension": ".py",
   "mimetype": "text/x-python",
   "name": "python",
   "nbconvert_exporter": "python",
   "pygments_lexer": "ipython3",
   "version": "3.6.7"
  }
 },
 "nbformat": 4,
 "nbformat_minor": 5
}
