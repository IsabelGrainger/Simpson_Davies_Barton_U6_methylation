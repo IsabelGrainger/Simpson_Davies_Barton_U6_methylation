{
 "cells": [
  {
   "cell_type": "code",
   "execution_count": 1,
   "id": "344704d3",
   "metadata": {
    "execution": {
     "iopub.execute_input": "2022-03-04T12:19:53.248387Z",
     "iopub.status.busy": "2022-03-04T12:19:53.239028Z",
     "iopub.status.idle": "2022-03-04T12:19:53.294763Z",
     "shell.execute_reply": "2022-03-04T12:19:53.293339Z"
    },
    "tags": [
     "snakemake-job-properties"
    ]
   },
   "outputs": [],
   "source": [
    "\n",
    "######## snakemake preamble start (automatically inserted, do not edit) ########\n",
    "import sys; sys.path.extend(['/cluster/ggs_lab/mtparker/.conda/envs/snakemake6/lib/python3.10/site-packages', '/cluster/ggs_lab/mtparker/papers/fiona/fiona_nanopore/rules/notebook_templates']); import pickle; snakemake = pickle.loads(b'\\x80\\x04\\x95\\xda\\x08\\x00\\x00\\x00\\x00\\x00\\x00\\x8c\\x10snakemake.script\\x94\\x8c\\tSnakemake\\x94\\x93\\x94)\\x81\\x94}\\x94(\\x8c\\x05input\\x94\\x8c\\x0csnakemake.io\\x94\\x8c\\nInputFiles\\x94\\x93\\x94)\\x81\\x94(\\x8c)apa_results/fip37_vs_col0.apa_results.bed\\x94\\x8c(apa_results/fio1_vs_col0.apa_results.bed\\x94e}\\x94(\\x8c\\x06_names\\x94}\\x94\\x8c\\x03res\\x94K\\x00K\\x02\\x86\\x94s\\x8c\\x12_allowed_overrides\\x94]\\x94(\\x8c\\x05index\\x94\\x8c\\x04sort\\x94eh\\x13\\x8c\\tfunctools\\x94\\x8c\\x07partial\\x94\\x93\\x94h\\x06\\x8c\\x19Namedlist._used_attribute\\x94\\x93\\x94\\x85\\x94R\\x94(h\\x19)}\\x94\\x8c\\x05_name\\x94h\\x13sNt\\x94bh\\x14h\\x17h\\x19\\x85\\x94R\\x94(h\\x19)}\\x94h\\x1dh\\x14sNt\\x94bh\\x0fh\\x06\\x8c\\tNamedlist\\x94\\x93\\x94)\\x81\\x94(h\\nh\\x0be}\\x94(h\\r}\\x94h\\x11]\\x94(h\\x13h\\x14eh\\x13h\\x17h\\x19\\x85\\x94R\\x94(h\\x19)}\\x94h\\x1dh\\x13sNt\\x94bh\\x14h\\x17h\\x19\\x85\\x94R\\x94(h\\x19)}\\x94h\\x1dh\\x14sNt\\x94bubub\\x8c\\x06output\\x94h\\x06\\x8c\\x0bOutputFiles\\x94\\x93\\x94)\\x81\\x94\\x8c(figures/d3pendr/d3pendr_effect_sizes.svg\\x94a}\\x94(h\\r}\\x94\\x8c\\tswarmplot\\x94K\\x00N\\x86\\x94sh\\x11]\\x94(h\\x13h\\x14eh\\x13h\\x17h\\x19\\x85\\x94R\\x94(h\\x19)}\\x94h\\x1dh\\x13sNt\\x94bh\\x14h\\x17h\\x19\\x85\\x94R\\x94(h\\x19)}\\x94h\\x1dh\\x14sNt\\x94bh8h5ub\\x8c\\x06params\\x94h\\x06\\x8c\\x06Params\\x94\\x93\\x94)\\x81\\x94}\\x94(h\\r}\\x94h\\x11]\\x94(h\\x13h\\x14eh\\x13h\\x17h\\x19\\x85\\x94R\\x94(h\\x19)}\\x94h\\x1dh\\x13sNt\\x94bh\\x14h\\x17h\\x19\\x85\\x94R\\x94(h\\x19)}\\x94h\\x1dh\\x14sNt\\x94bub\\x8c\\twildcards\\x94h\\x06\\x8c\\tWildcards\\x94\\x93\\x94)\\x81\\x94}\\x94(h\\r}\\x94h\\x11]\\x94(h\\x13h\\x14eh\\x13h\\x17h\\x19\\x85\\x94R\\x94(h\\x19)}\\x94h\\x1dh\\x13sNt\\x94bh\\x14h\\x17h\\x19\\x85\\x94R\\x94(h\\x19)}\\x94h\\x1dh\\x14sNt\\x94bub\\x8c\\x07threads\\x94K\\x01\\x8c\\tresources\\x94h\\x06\\x8c\\tResources\\x94\\x93\\x94)\\x81\\x94(K\\x01K\\x01M\\xe8\\x03M\\xe8\\x03\\x8c\\x13/tmp/378396.1.all.q\\x94e}\\x94(h\\r}\\x94(\\x8c\\x06_cores\\x94K\\x00N\\x86\\x94\\x8c\\x06_nodes\\x94K\\x01N\\x86\\x94\\x8c\\x06mem_mb\\x94K\\x02N\\x86\\x94\\x8c\\x07disk_mb\\x94K\\x03N\\x86\\x94\\x8c\\x06tmpdir\\x94K\\x04N\\x86\\x94uh\\x11]\\x94(h\\x13h\\x14eh\\x13h\\x17h\\x19\\x85\\x94R\\x94(h\\x19)}\\x94h\\x1dh\\x13sNt\\x94bh\\x14h\\x17h\\x19\\x85\\x94R\\x94(h\\x19)}\\x94h\\x1dh\\x14sNt\\x94bhiK\\x01hkK\\x01hmM\\xe8\\x03hoM\\xe8\\x03hqhfub\\x8c\\x03log\\x94h\\x06\\x8c\\x03Log\\x94\\x93\\x94)\\x81\\x94\\x8c)notebook_processed/d3pendr_plots.py.ipynb\\x94a}\\x94(h\\r}\\x94\\x8c\\x08notebook\\x94K\\x00N\\x86\\x94sh\\x11]\\x94(h\\x13h\\x14eh\\x13h\\x17h\\x19\\x85\\x94R\\x94(h\\x19)}\\x94h\\x1dh\\x13sNt\\x94bh\\x14h\\x17h\\x19\\x85\\x94R\\x94(h\\x19)}\\x94h\\x1dh\\x14sNt\\x94bh\\x83h\\x80ub\\x8c\\x06config\\x94}\\x94(\\x8c\\x16transcriptome_fasta_fn\\x94\\x8c0../annotations/Araport11_genes.201606.cdna.fasta\\x94\\x8c\\x0fgenome_fasta_fn\\x94\\x8c:../annotations/Arabidopsis_thaliana.TAIR10.dna.toplevel.fa\\x94\\x8c\\x06gtf_fn\\x94\\x8cA../annotations/Araport11_GFF3_genes_transposons.201606.no_chr.gtf\\x94\\x8c\\x08flowcell\\x94\\x8c\\nFLO-MIN106\\x94\\x8c\\x03kit\\x94\\x8c\\nSQK-RNA002\\x94\\x8c\\x13minimap2_parameters\\x94}\\x94\\x8c\\x0fmax_intron_size\\x94M Ns\\x8c\\x12d3pendr_parameters\\x94}\\x94(\\x8c\\x10min_read_overlap\\x94G?\\xc9\\x99\\x99\\x99\\x99\\x99\\x9a\\x8c\\x06nboots\\x94M\\xe7\\x03\\x8c\\x0fuse_gamma_model\\x94\\x88\\x8c\\x10test_homogeneity\\x94\\x89u\\x8c\\x0eexpected_motif\\x94\\x8c\\x05NNANN\\x94\\x8c\\x0bcomparisons\\x94]\\x94(\\x8c\\rfip37_vs_col0\\x94\\x8c\\x0cfio1_vs_col0\\x94e\\x8c\\tmulticomp\\x94]\\x94\\x8c\\x15fip37_vs_fio1_vs_col0\\x94a\\x8c\\x0fmiclip_coverage\\x94]\\x94(\\x8c ../annotations/miclip_cov.fwd.bw\\x94\\x8c ../annotations/miclip_cov.rev.bw\\x94e\\x8c\\x0cmiclip_peaks\\x94\\x8c\"../annotations/miclip_peaks.bed.gz\\x94\\x8c\\tder_sites\\x94\\x8c,../annotations/vir1_vs_VIRc_der_sites.bed.gz\\x94\\x8c\\x0fm6a_gene_tracks\\x94]\\x94(\\x8c\\tAT2G22540\\x94\\x8c\\tAT2G45660\\x94\\x8c\\tAT2G43010\\x94\\x8c\\tAT1G02500\\x94\\x8c\\tAT4G01850\\x94\\x8c\\tAT2G36880\\x94\\x8c\\tAT3G17390\\x94e\\x8c\\x14splicing_gene_tracks\\x94]\\x94(\\x8c\\tAT1G33410\\x94\\x8c\\tAT3G04910\\x94\\x8c\\tAT1G01060\\x94eu\\x8c\\x04rule\\x94\\x8c\\x16generate_d3pendr_plots\\x94\\x8c\\x0fbench_iteration\\x94N\\x8c\\tscriptdir\\x94\\x8cN/cluster/ggs_lab/mtparker/papers/fiona/fiona_nanopore/rules/notebook_templates\\x94ub.'); from snakemake.logging import logger; logger.printshellcmds = True; import os; os.chdir(r'/cluster/ggs_lab/mtparker/papers/fiona/fiona_nanopore/pipeline');\n",
    "######## snakemake preamble end #########\n"
   ]
  },
  {
   "cell_type": "code",
   "execution_count": 2,
   "id": "d2fd9d73",
   "metadata": {
    "execution": {
     "iopub.execute_input": "2022-03-04T12:19:53.304267Z",
     "iopub.status.busy": "2022-03-04T12:19:53.302918Z",
     "iopub.status.idle": "2022-03-04T12:19:59.446935Z",
     "shell.execute_reply": "2022-03-04T12:19:59.445769Z"
    }
   },
   "outputs": [],
   "source": [
    "import numpy as np\n",
    "import pandas as pd\n",
    "from scipy import stats\n",
    "import matplotlib.pyplot as plt\n",
    "from matplotlib.colors import ListedColormap, Normalize\n",
    "import seaborn as sns\n",
    "\n",
    "## Default plotting params\n",
    "\n",
    "%matplotlib inline\n",
    "sns.set(font='Arial')\n",
    "plt.rcParams['svg.fonttype'] = 'none'\n",
    "style = sns.axes_style('white')\n",
    "style.update(sns.axes_style('ticks'))\n",
    "style['xtick.major.size'] = 1\n",
    "style['ytick.major.size'] = 1\n",
    "sns.set(font_scale=1.2, style=style)\n",
    "pal = sns.color_palette(['#0072b2', '#d55e00', '#009e73', '#f0e442', '#cc79a7', '#56b4e9', '#e69f00'])\n",
    "cmap = ListedColormap(pal.as_hex())\n",
    "sns.set_palette(pal)"
   ]
  },
  {
   "cell_type": "code",
   "execution_count": 3,
   "id": "a2541f2e",
   "metadata": {
    "execution": {
     "iopub.execute_input": "2022-03-04T12:19:59.455011Z",
     "iopub.status.busy": "2022-03-04T12:19:59.453816Z",
     "iopub.status.idle": "2022-03-04T12:19:59.556302Z",
     "shell.execute_reply": "2022-03-04T12:19:59.557169Z"
    }
   },
   "outputs": [
    {
     "data": {
      "text/html": [
       "<div>\n",
       "<style scoped>\n",
       "    .dataframe tbody tr th:only-of-type {\n",
       "        vertical-align: middle;\n",
       "    }\n",
       "\n",
       "    .dataframe tbody tr th {\n",
       "        vertical-align: top;\n",
       "    }\n",
       "\n",
       "    .dataframe thead th {\n",
       "        text-align: right;\n",
       "    }\n",
       "</style>\n",
       "<table border=\"1\" class=\"dataframe\">\n",
       "  <thead>\n",
       "    <tr style=\"text-align: right;\">\n",
       "      <th></th>\n",
       "      <th>comp</th>\n",
       "      <th>gene_id</th>\n",
       "      <th>chrom</th>\n",
       "      <th>start</th>\n",
       "      <th>end</th>\n",
       "      <th>score</th>\n",
       "      <th>strand</th>\n",
       "      <th>wass_dist</th>\n",
       "      <th>wass_dir</th>\n",
       "      <th>p_val</th>\n",
       "      <th>fdr</th>\n",
       "      <th>nreads_treat</th>\n",
       "      <th>nreads_cntrl</th>\n",
       "    </tr>\n",
       "  </thead>\n",
       "  <tbody>\n",
       "    <tr>\n",
       "      <th>0</th>\n",
       "      <td>fip37_vs_col0</td>\n",
       "      <td>AT1G01080</td>\n",
       "      <td>1</td>\n",
       "      <td>44969</td>\n",
       "      <td>47059</td>\n",
       "      <td>29</td>\n",
       "      <td>-</td>\n",
       "      <td>29.0</td>\n",
       "      <td>-18.2</td>\n",
       "      <td>2.710000e-03</td>\n",
       "      <td>0.017800</td>\n",
       "      <td>564</td>\n",
       "      <td>448</td>\n",
       "    </tr>\n",
       "    <tr>\n",
       "      <th>1</th>\n",
       "      <td>fip37_vs_col0</td>\n",
       "      <td>AT1G01170</td>\n",
       "      <td>1</td>\n",
       "      <td>73930</td>\n",
       "      <td>74737</td>\n",
       "      <td>26</td>\n",
       "      <td>-</td>\n",
       "      <td>25.9</td>\n",
       "      <td>5.2</td>\n",
       "      <td>1.100000e-07</td>\n",
       "      <td>0.000004</td>\n",
       "      <td>1113</td>\n",
       "      <td>987</td>\n",
       "    </tr>\n",
       "    <tr>\n",
       "      <th>2</th>\n",
       "      <td>fip37_vs_col0</td>\n",
       "      <td>AT1G01430</td>\n",
       "      <td>1</td>\n",
       "      <td>156476</td>\n",
       "      <td>158823</td>\n",
       "      <td>28</td>\n",
       "      <td>-</td>\n",
       "      <td>28.1</td>\n",
       "      <td>-1.1</td>\n",
       "      <td>1.540000e-05</td>\n",
       "      <td>0.000299</td>\n",
       "      <td>816</td>\n",
       "      <td>723</td>\n",
       "    </tr>\n",
       "    <tr>\n",
       "      <th>3</th>\n",
       "      <td>fip37_vs_col0</td>\n",
       "      <td>AT1G01540</td>\n",
       "      <td>1</td>\n",
       "      <td>195644</td>\n",
       "      <td>198787</td>\n",
       "      <td>108</td>\n",
       "      <td>+</td>\n",
       "      <td>107.7</td>\n",
       "      <td>-107.7</td>\n",
       "      <td>3.480000e-03</td>\n",
       "      <td>0.021500</td>\n",
       "      <td>254</td>\n",
       "      <td>243</td>\n",
       "    </tr>\n",
       "    <tr>\n",
       "      <th>4</th>\n",
       "      <td>fip37_vs_col0</td>\n",
       "      <td>AT1G01710</td>\n",
       "      <td>1</td>\n",
       "      <td>262827</td>\n",
       "      <td>266324</td>\n",
       "      <td>168</td>\n",
       "      <td>+</td>\n",
       "      <td>167.6</td>\n",
       "      <td>154.0</td>\n",
       "      <td>2.520000e-03</td>\n",
       "      <td>0.016800</td>\n",
       "      <td>173</td>\n",
       "      <td>119</td>\n",
       "    </tr>\n",
       "  </tbody>\n",
       "</table>\n",
       "</div>"
      ],
      "text/plain": [
       "            comp    gene_id chrom   start     end  score strand  wass_dist  \\\n",
       "0  fip37_vs_col0  AT1G01080     1   44969   47059     29      -       29.0   \n",
       "1  fip37_vs_col0  AT1G01170     1   73930   74737     26      -       25.9   \n",
       "2  fip37_vs_col0  AT1G01430     1  156476  158823     28      -       28.1   \n",
       "3  fip37_vs_col0  AT1G01540     1  195644  198787    108      +      107.7   \n",
       "4  fip37_vs_col0  AT1G01710     1  262827  266324    168      +      167.6   \n",
       "\n",
       "   wass_dir         p_val       fdr  nreads_treat  nreads_cntrl  \n",
       "0     -18.2  2.710000e-03  0.017800           564           448  \n",
       "1       5.2  1.100000e-07  0.000004          1113           987  \n",
       "2      -1.1  1.540000e-05  0.000299           816           723  \n",
       "3    -107.7  3.480000e-03  0.021500           254           243  \n",
       "4     154.0  2.520000e-03  0.016800           173           119  "
      ]
     },
     "execution_count": 1,
     "metadata": {},
     "output_type": "execute_result"
    }
   ],
   "source": [
    "D3PENDR_COLS = ['chrom', 'start', 'end', 'gene_id', 'score', 'strand',\n",
    "                'wass_dist', 'wass_dir', 'p_val', 'fdr', 'nreads_treat', 'nreads_cntrl']\n",
    "\n",
    "d3pendr_res = {\n",
    "    comp: pd.read_csv(fn, sep='\\t', names=D3PENDR_COLS, index_col='gene_id').query('wass_dist > 25 & fdr < 0.05')\n",
    "    for comp, fn in zip(snakemake.config['comparisons'], snakemake.input.res)\n",
    "}\n",
    "d3pendr_res = pd.concat(d3pendr_res, axis=0, names=['comp']).reset_index()\n",
    "d3pendr_res.head()"
   ]
  },
  {
   "cell_type": "code",
   "execution_count": 4,
   "id": "3a4fcb84",
   "metadata": {
    "execution": {
     "iopub.execute_input": "2022-03-04T12:19:59.574705Z",
     "iopub.status.busy": "2022-03-04T12:19:59.573367Z",
     "iopub.status.idle": "2022-03-04T12:20:15.798424Z",
     "shell.execute_reply": "2022-03-04T12:20:15.799333Z"
    }
   },
   "outputs": [
    {
     "name": "stderr",
     "output_type": "stream",
     "text": [
      "/cluster/ggs_lab/mtparker/snakemake_conda_envs/envs/337513e41a44b168b7986a31fac95cf8/lib/python3.6/site-packages/seaborn/categorical.py:1296: UserWarning: 82.2% of the points cannot be placed; you may want to decrease the size of the markers or use stripplot.\n",
      "  warnings.warn(msg, UserWarning)\n",
      "/cluster/ggs_lab/mtparker/snakemake_conda_envs/envs/337513e41a44b168b7986a31fac95cf8/lib/python3.6/site-packages/seaborn/categorical.py:1296: UserWarning: 10.2% of the points cannot be placed; you may want to decrease the size of the markers or use stripplot.\n",
      "  warnings.warn(msg, UserWarning)\n"
     ]
    },
    {
     "data": {
      "image/png": "[encoded data removed]",
      "text/plain": [
       "<Figure size 360x360 with 1 Axes>"
      ]
     },
     "metadata": {},
     "output_type": "display_data"
    }
   ],
   "source": [
    "fig, ax = plt.subplots(figsize=(5, 5))\n",
    "sns.swarmplot(\n",
    "    x='comp',\n",
    "    y='wass_dist',\n",
    "    data=d3pendr_res,\n",
    "    order=['fip37_vs_col0', 'fio1_vs_col0'],\n",
    "    palette=[pal[2], pal[1]],\n",
    ")\n",
    "ax.set_xlabel('Genotype (vs. Col-0)')\n",
    "ax.set_xticklabels(['fip37-4', 'fio1-1'])\n",
    "ax.set_ylabel('Effect size (Eart mover distance)')\n",
    "plt.savefig(snakemake.output.swarmplot)\n",
    "plt.show()"
   ]
  }
 ],
 "metadata": {
  "kernelspec": {
   "display_name": "Python 3",
   "language": "python",
   "name": "python3"
  },
  "language_info": {
   "codemirror_mode": {
    "name": "ipython",
    "version": 3
   },
   "file_extension": ".py",
   "mimetype": "text/x-python",
   "name": "python",
   "nbconvert_exporter": "python",
   "pygments_lexer": "ipython3",
   "version": "3.6.7"
  }
 },
 "nbformat": 4,
 "nbformat_minor": 5
}
