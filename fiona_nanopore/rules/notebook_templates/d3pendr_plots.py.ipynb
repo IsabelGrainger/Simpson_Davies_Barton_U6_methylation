{
 "cells": [
  {
   "cell_type": "code",
   "execution_count": null,
   "metadata": {
    "tags": [
     "snakemake-job-properties"
    ]
   },
   "outputs": [],
   "source": [
    "\n",
    "######## snakemake preamble start (automatically inserted, do not edit) ########\n",
    "import sys; sys.path.extend(['/cluster/ggs_lab/mtparker/.conda/envs/snakemake6/lib/python3.10/site-packages', '/cluster/ggs_lab/mtparker/papers/fiona/fiona_nanopore/rules/notebook_templates']); import pickle; snakemake = pickle.loads(b'\\x80\\x04\\x95\\x9e\\x08\\x00\\x00\\x00\\x00\\x00\\x00\\x8c\\x10snakemake.script\\x94\\x8c\\tSnakemake\\x94\\x93\\x94)\\x81\\x94}\\x94(\\x8c\\x05input\\x94\\x8c\\x0csnakemake.io\\x94\\x8c\\nInputFiles\\x94\\x93\\x94)\\x81\\x94(\\x8c)apa_results/fip37_vs_col0.apa_results.bed\\x94\\x8c(apa_results/fio1_vs_col0.apa_results.bed\\x94e}\\x94(\\x8c\\x06_names\\x94}\\x94\\x8c\\x03res\\x94K\\x00K\\x02\\x86\\x94s\\x8c\\x12_allowed_overrides\\x94]\\x94(\\x8c\\x05index\\x94\\x8c\\x04sort\\x94eh\\x13\\x8c\\tfunctools\\x94\\x8c\\x07partial\\x94\\x93\\x94h\\x06\\x8c\\x19Namedlist._used_attribute\\x94\\x93\\x94\\x85\\x94R\\x94(h\\x19)}\\x94\\x8c\\x05_name\\x94h\\x13sNt\\x94bh\\x14h\\x17h\\x19\\x85\\x94R\\x94(h\\x19)}\\x94h\\x1dh\\x14sNt\\x94bh\\x0fh\\x06\\x8c\\tNamedlist\\x94\\x93\\x94)\\x81\\x94(h\\nh\\x0be}\\x94(h\\r}\\x94h\\x11]\\x94(h\\x13h\\x14eh\\x13h\\x17h\\x19\\x85\\x94R\\x94(h\\x19)}\\x94h\\x1dh\\x13sNt\\x94bh\\x14h\\x17h\\x19\\x85\\x94R\\x94(h\\x19)}\\x94h\\x1dh\\x14sNt\\x94bubub\\x8c\\x06output\\x94h\\x06\\x8c\\x0bOutputFiles\\x94\\x93\\x94)\\x81\\x94\\x8c(figures/d3pendr/d3pendr_effect_sizes.svg\\x94a}\\x94(h\\r}\\x94\\x8c\\tswarmplot\\x94K\\x00N\\x86\\x94sh\\x11]\\x94(h\\x13h\\x14eh\\x13h\\x17h\\x19\\x85\\x94R\\x94(h\\x19)}\\x94h\\x1dh\\x13sNt\\x94bh\\x14h\\x17h\\x19\\x85\\x94R\\x94(h\\x19)}\\x94h\\x1dh\\x14sNt\\x94bh8h5ub\\x8c\\x06params\\x94h\\x06\\x8c\\x06Params\\x94\\x93\\x94)\\x81\\x94}\\x94(h\\r}\\x94h\\x11]\\x94(h\\x13h\\x14eh\\x13h\\x17h\\x19\\x85\\x94R\\x94(h\\x19)}\\x94h\\x1dh\\x13sNt\\x94bh\\x14h\\x17h\\x19\\x85\\x94R\\x94(h\\x19)}\\x94h\\x1dh\\x14sNt\\x94bub\\x8c\\twildcards\\x94h\\x06\\x8c\\tWildcards\\x94\\x93\\x94)\\x81\\x94}\\x94(h\\r}\\x94h\\x11]\\x94(h\\x13h\\x14eh\\x13h\\x17h\\x19\\x85\\x94R\\x94(h\\x19)}\\x94h\\x1dh\\x13sNt\\x94bh\\x14h\\x17h\\x19\\x85\\x94R\\x94(h\\x19)}\\x94h\\x1dh\\x14sNt\\x94bub\\x8c\\x07threads\\x94K\\x01\\x8c\\tresources\\x94h\\x06\\x8c\\tResources\\x94\\x93\\x94)\\x81\\x94(K\\x01K\\x01\\x8c\\x04/tmp\\x94e}\\x94(h\\r}\\x94(\\x8c\\x06_cores\\x94K\\x00N\\x86\\x94\\x8c\\x06_nodes\\x94K\\x01N\\x86\\x94\\x8c\\x06tmpdir\\x94K\\x02N\\x86\\x94uh\\x11]\\x94(h\\x13h\\x14eh\\x13h\\x17h\\x19\\x85\\x94R\\x94(h\\x19)}\\x94h\\x1dh\\x13sNt\\x94bh\\x14h\\x17h\\x19\\x85\\x94R\\x94(h\\x19)}\\x94h\\x1dh\\x14sNt\\x94bhiK\\x01hkK\\x01hmhfub\\x8c\\x03log\\x94h\\x06\\x8c\\x03Log\\x94\\x93\\x94)\\x81\\x94\\x8c)notebook_processed/d3pendr_plots.py.ipynb\\x94a}\\x94(h\\r}\\x94\\x8c\\x08notebook\\x94K\\x00N\\x86\\x94sh\\x11]\\x94(h\\x13h\\x14eh\\x13h\\x17h\\x19\\x85\\x94R\\x94(h\\x19)}\\x94h\\x1dh\\x13sNt\\x94bh\\x14h\\x17h\\x19\\x85\\x94R\\x94(h\\x19)}\\x94h\\x1dh\\x14sNt\\x94bh\\x7fh|ub\\x8c\\x06config\\x94}\\x94(\\x8c\\x16transcriptome_fasta_fn\\x94\\x8c0../annotations/Araport11_genes.201606.cdna.fasta\\x94\\x8c\\x0fgenome_fasta_fn\\x94\\x8c:../annotations/Arabidopsis_thaliana.TAIR10.dna.toplevel.fa\\x94\\x8c\\x06gtf_fn\\x94\\x8cA../annotations/Araport11_GFF3_genes_transposons.201606.no_chr.gtf\\x94\\x8c\\x08flowcell\\x94\\x8c\\nFLO-MIN106\\x94\\x8c\\x03kit\\x94\\x8c\\nSQK-RNA002\\x94\\x8c\\x13minimap2_parameters\\x94}\\x94\\x8c\\x0fmax_intron_size\\x94M Ns\\x8c\\x12d3pendr_parameters\\x94}\\x94(\\x8c\\x10min_read_overlap\\x94G?\\xc9\\x99\\x99\\x99\\x99\\x99\\x9a\\x8c\\x06nboots\\x94M\\xe7\\x03\\x8c\\x0fuse_gamma_model\\x94\\x88\\x8c\\x10test_homogeneity\\x94\\x89u\\x8c\\x0eexpected_motif\\x94\\x8c\\x05NNANN\\x94\\x8c\\x0bcomparisons\\x94]\\x94(\\x8c\\rfip37_vs_col0\\x94\\x8c\\x0cfio1_vs_col0\\x94e\\x8c\\tmulticomp\\x94]\\x94\\x8c\\x15fip37_vs_fio1_vs_col0\\x94a\\x8c\\x0fmiclip_coverage\\x94]\\x94(\\x8c ../annotations/miclip_cov.fwd.bw\\x94\\x8c ../annotations/miclip_cov.rev.bw\\x94e\\x8c\\x0cmiclip_peaks\\x94\\x8c\"../annotations/miclip_peaks.bed.gz\\x94\\x8c\\tder_sites\\x94\\x8c,../annotations/vir1_vs_VIRc_der_sites.bed.gz\\x94\\x8c\\x0fm6a_gene_tracks\\x94]\\x94(\\x8c\\tAT2G22540\\x94\\x8c\\tAT2G45660\\x94\\x8c\\tAT2G43010\\x94\\x8c\\tAT1G02500\\x94\\x8c\\tAT4G01850\\x94\\x8c\\tAT2G36880\\x94\\x8c\\tAT3G17390\\x94e\\x8c\\x14splicing_gene_tracks\\x94]\\x94(\\x8c\\tAT1G33410\\x94\\x8c\\tAT3G04910\\x94\\x8c\\tAT1G01060\\x94eu\\x8c\\x04rule\\x94\\x8c\\x16generate_d3pendr_plots\\x94\\x8c\\x0fbench_iteration\\x94N\\x8c\\tscriptdir\\x94\\x8cN/cluster/ggs_lab/mtparker/papers/fiona/fiona_nanopore/rules/notebook_templates\\x94ub.'); from snakemake.logging import logger; logger.printshellcmds = False; import os; os.chdir(r'/cluster/ggs_lab/mtparker/papers/fiona/fiona_nanopore/pipeline');\n",
    "######## snakemake preamble end #########\n"
   ]
  },
  {
   "cell_type": "code",
   "execution_count": null,
   "metadata": {},
   "outputs": [],
   "source": [
    "import numpy as np\n",
    "import pandas as pd\n",
    "from scipy import stats\n",
    "import matplotlib.pyplot as plt\n",
    "from matplotlib.colors import ListedColormap, Normalize\n",
    "import seaborn as sns\n",
    "\n",
    "## Default plotting params\n",
    "\n",
    "%matplotlib inline\n",
    "sns.set(font='Arial')\n",
    "plt.rcParams['svg.fonttype'] = 'none'\n",
    "style = sns.axes_style('white')\n",
    "style.update(sns.axes_style('ticks'))\n",
    "style['xtick.major.size'] = 1\n",
    "style['ytick.major.size'] = 1\n",
    "sns.set(font_scale=1.2, style=style)\n",
    "pal = sns.color_palette(['#0072b2', '#d55e00', '#009e73', '#f0e442', '#cc79a7', '#56b4e9', '#e69f00'])\n",
    "cmap = ListedColormap(pal.as_hex())\n",
    "sns.set_palette(pal)"
   ]
  },
  {
   "cell_type": "code",
   "execution_count": null,
   "metadata": {},
   "outputs": [],
   "source": [
    "D3PENDR_COLS = ['chrom', 'start', 'end', 'gene_id', 'score', 'strand',\n",
    "                'wass_dist', 'wass_dir', 'p_val', 'fdr', 'nreads_treat', 'nreads_cntrl']\n",
    "\n",
    "d3pendr_res = {\n",
    "    comp: pd.read_csv(fn, sep='\\t', names=D3PENDR_COLS, index_col='gene_id').query('wass_dist > 25 & fdr < 0.05')\n",
    "    for comp, fn in zip(snakemake.config['comparisons'], snakemake.input.res)\n",
    "}\n",
    "d3pendr_res = pd.concat(d3pendr_res, axis=0, names=['comp']).reset_index()\n",
    "d3pendr_res.head()"
   ]
  },
  {
   "cell_type": "code",
   "execution_count": null,
   "metadata": {},
   "outputs": [],
   "source": [
    "fig, ax = plt.subplots(figsize=(5, 5))\n",
    "sns.swarmplot(\n",
    "    x='comp',\n",
    "    y='wass_dist',\n",
    "    data=d3pendr_res,\n",
    "    order=['fip37_vs_col0', 'fio1_vs_col0'],\n",
    "    palette=[pal[2], pal[1]],\n",
    ")\n",
    "ax.set_xlabel('Genotype (vs. Col-0)')\n",
    "ax.set_xticklabels(['fip37-4', 'fio1-1'])\n",
    "ax.set_ylabel('Effect size (Eart mover distance)')\n",
    "plt.savefig(snakemake.output.swarmplot)\n",
    "plt.show()"
   ]
  }
 ],
 "metadata": {
  "kernelspec": {
   "display_name": "Python 3",
   "language": "python",
   "name": "python3"
  },
  "language_info": {
   "codemirror_mode": {
    "name": "ipython",
    "version": 3
   },
   "file_extension": ".py",
   "mimetype": "text/x-python",
   "name": "python",
   "nbconvert_exporter": "python",
   "pygments_lexer": "ipython3",
   "version": "3.7.8"
  }
 },
 "nbformat": 4,
 "nbformat_minor": 5
}
